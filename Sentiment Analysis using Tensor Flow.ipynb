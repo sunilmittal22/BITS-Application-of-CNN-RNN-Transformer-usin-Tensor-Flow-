{
 "cells": [
  {
   "cell_type": "code",
   "execution_count": 1,
   "metadata": {},
   "outputs": [
    {
     "ename": "SyntaxError",
     "evalue": "invalid syntax (170689579.py, line 1)",
     "output_type": "error",
     "traceback": [
      "\u001b[1;36m  Input \u001b[1;32mIn [1]\u001b[1;36m\u001b[0m\n\u001b[1;33m    pip install tweepy\u001b[0m\n\u001b[1;37m        ^\u001b[0m\n\u001b[1;31mSyntaxError\u001b[0m\u001b[1;31m:\u001b[0m invalid syntax\n"
     ]
    }
   ],
   "source": [
    "#pip install tweepy\n",
    "#pip install tensorflow"
   ]
  },
  {
   "cell_type": "markdown",
   "metadata": {},
   "source": [
    "### Install All the required directories"
   ]
  },
  {
   "cell_type": "code",
   "execution_count": 88,
   "metadata": {},
   "outputs": [],
   "source": [
    "import pandas as pd\n",
    "import numpy as np\n",
    "from tensorflow.keras.preprocessing.text import Tokenizer\n",
    "from tensorflow.keras.preprocessing.sequence import pad_sequences\n",
    "from tensorflow.keras.models import Sequential,Model\n",
    "from tensorflow.keras.layers import Embedding, Conv1D, GlobalMaxPooling1D, Dense,LSTM,MultiHeadAttention,Input,Embedding,GlobalAveragePooling1D\n",
    "from sklearn.metrics import classification_report,confusion_matrix\n",
    "from sklearn.model_selection import train_test_split\n",
    "from sklearn.preprocessing import LabelEncoder\n",
    "import matplotlib.pyplot as plt\n",
    "import seaborn as sns"
   ]
  },
  {
   "cell_type": "markdown",
   "metadata": {},
   "source": [
    "### Load the \"Data_For_Sentiment_Analysis\" excel file in a data frame df"
   ]
  },
  {
   "cell_type": "code",
   "execution_count": 29,
   "metadata": {},
   "outputs": [
    {
     "data": {
      "text/html": [
       "<div>\n",
       "<style scoped>\n",
       "    .dataframe tbody tr th:only-of-type {\n",
       "        vertical-align: middle;\n",
       "    }\n",
       "\n",
       "    .dataframe tbody tr th {\n",
       "        vertical-align: top;\n",
       "    }\n",
       "\n",
       "    .dataframe thead th {\n",
       "        text-align: right;\n",
       "    }\n",
       "</style>\n",
       "<table border=\"1\" class=\"dataframe\">\n",
       "  <thead>\n",
       "    <tr style=\"text-align: right;\">\n",
       "      <th></th>\n",
       "      <th>File Name</th>\n",
       "      <th>Caption</th>\n",
       "      <th>LABEL</th>\n",
       "    </tr>\n",
       "  </thead>\n",
       "  <tbody>\n",
       "    <tr>\n",
       "      <th>0</th>\n",
       "      <td>1.txt</td>\n",
       "      <td>How I feel today #legday #jelly #aching #gym</td>\n",
       "      <td>negative</td>\n",
       "    </tr>\n",
       "    <tr>\n",
       "      <th>1</th>\n",
       "      <td>10.txt</td>\n",
       "      <td>@ArrivaTW absolute disgrace two carriages from...</td>\n",
       "      <td>negative</td>\n",
       "    </tr>\n",
       "    <tr>\n",
       "      <th>2</th>\n",
       "      <td>100.txt</td>\n",
       "      <td>This is my Valentine's from 1 of my nephews. I...</td>\n",
       "      <td>positive</td>\n",
       "    </tr>\n",
       "    <tr>\n",
       "      <th>3</th>\n",
       "      <td>1000.txt</td>\n",
       "      <td>betterfeelingfilms: RT via Instagram: First da...</td>\n",
       "      <td>neutral</td>\n",
       "    </tr>\n",
       "    <tr>\n",
       "      <th>4</th>\n",
       "      <td>1001.txt</td>\n",
       "      <td>Zoe's first love #Rattled @JohnnyHarper15</td>\n",
       "      <td>positive</td>\n",
       "    </tr>\n",
       "  </tbody>\n",
       "</table>\n",
       "</div>"
      ],
      "text/plain": [
       "  File Name                                            Caption     LABEL\n",
       "0     1.txt      How I feel today #legday #jelly #aching #gym   negative\n",
       "1    10.txt  @ArrivaTW absolute disgrace two carriages from...  negative\n",
       "2   100.txt  This is my Valentine's from 1 of my nephews. I...  positive\n",
       "3  1000.txt  betterfeelingfilms: RT via Instagram: First da...   neutral\n",
       "4  1001.txt         Zoe's first love #Rattled @JohnnyHarper15   positive"
      ]
     },
     "execution_count": 29,
     "metadata": {},
     "output_type": "execute_result"
    }
   ],
   "source": [
    "\n",
    "\n",
    "# Load the Excel file into a DataFrame\n",
    "file_path = 'Data_For_Sentiment_Analysis.xlsx'\n",
    "df = pd.read_excel(file_path)\n",
    "\n",
    "# Show the first few rows of the DataFrame to understand its structure\n",
    "df.head()\n"
   ]
  },
  {
   "cell_type": "markdown",
   "metadata": {},
   "source": [
    "### The dataset contains three columns:\n",
    "<ol>\n",
    "<li>File Name: The name of the file that contains the text ,It is a identifier for the row.</li>\n",
    "<li>Caption: The text content, will be used for sentiment analysis.</li>\n",
    "<li>LABEL: The sentiment label, which could be either of  1 value \"positive,\" \"negative,\" or \"neutral.\"</li>\n",
    "</ol>"
   ]
  },
  {
   "cell_type": "code",
   "execution_count": 76,
   "metadata": {},
   "outputs": [
    {
     "data": {
      "text/plain": [
       "(4869, 3)"
      ]
     },
     "execution_count": 76,
     "metadata": {},
     "output_type": "execute_result"
    }
   ],
   "source": [
    "df.shape"
   ]
  },
  {
   "cell_type": "code",
   "execution_count": 77,
   "metadata": {},
   "outputs": [
    {
     "data": {
      "text/html": [
       "<div>\n",
       "<style scoped>\n",
       "    .dataframe tbody tr th:only-of-type {\n",
       "        vertical-align: middle;\n",
       "    }\n",
       "\n",
       "    .dataframe tbody tr th {\n",
       "        vertical-align: top;\n",
       "    }\n",
       "\n",
       "    .dataframe thead th {\n",
       "        text-align: right;\n",
       "    }\n",
       "</style>\n",
       "<table border=\"1\" class=\"dataframe\">\n",
       "  <thead>\n",
       "    <tr style=\"text-align: right;\">\n",
       "      <th></th>\n",
       "      <th>File Name</th>\n",
       "      <th>Caption</th>\n",
       "      <th>LABEL</th>\n",
       "    </tr>\n",
       "  </thead>\n",
       "  <tbody>\n",
       "    <tr>\n",
       "      <th>count</th>\n",
       "      <td>4869</td>\n",
       "      <td>4869</td>\n",
       "      <td>4869</td>\n",
       "    </tr>\n",
       "    <tr>\n",
       "      <th>unique</th>\n",
       "      <td>4869</td>\n",
       "      <td>4663</td>\n",
       "      <td>3</td>\n",
       "    </tr>\n",
       "    <tr>\n",
       "      <th>top</th>\n",
       "      <td>1.txt</td>\n",
       "      <td>#February #Winter #Rainy #Stormy #Windy #Tuesd...</td>\n",
       "      <td>neutral</td>\n",
       "    </tr>\n",
       "    <tr>\n",
       "      <th>freq</th>\n",
       "      <td>1</td>\n",
       "      <td>10</td>\n",
       "      <td>1771</td>\n",
       "    </tr>\n",
       "  </tbody>\n",
       "</table>\n",
       "</div>"
      ],
      "text/plain": [
       "       File Name                                            Caption    LABEL\n",
       "count       4869                                               4869     4869\n",
       "unique      4869                                               4663        3\n",
       "top        1.txt  #February #Winter #Rainy #Stormy #Windy #Tuesd...  neutral\n",
       "freq           1                                                 10     1771"
      ]
     },
     "execution_count": 77,
     "metadata": {},
     "output_type": "execute_result"
    }
   ],
   "source": [
    "df.describe() ## This displays the summary statistics of the data."
   ]
  },
  {
   "cell_type": "code",
   "execution_count": 78,
   "metadata": {},
   "outputs": [
    {
     "name": "stdout",
     "output_type": "stream",
     "text": [
      "<class 'pandas.core.frame.DataFrame'>\n",
      "RangeIndex: 4869 entries, 0 to 4868\n",
      "Data columns (total 3 columns):\n",
      " #   Column     Non-Null Count  Dtype \n",
      "---  ------     --------------  ----- \n",
      " 0   File Name  4869 non-null   object\n",
      " 1   Caption    4869 non-null   object\n",
      " 2   LABEL      4869 non-null   object\n",
      "dtypes: object(3)\n",
      "memory usage: 114.2+ KB\n"
     ]
    }
   ],
   "source": [
    "df.info() # There is no missing value.\n",
    "          # Data type of date,WeekStatus,Day_of_week,Load_type is String, \n",
    "          # NSM is integer type and rest columns are Numerical Variables."
   ]
  },
  {
   "cell_type": "code",
   "execution_count": 79,
   "metadata": {},
   "outputs": [
    {
     "name": "stdout",
     "output_type": "stream",
     "text": [
      "Missing values before data cleaning\n"
     ]
    },
    {
     "data": {
      "text/html": [
       "<div>\n",
       "<style scoped>\n",
       "    .dataframe tbody tr th:only-of-type {\n",
       "        vertical-align: middle;\n",
       "    }\n",
       "\n",
       "    .dataframe tbody tr th {\n",
       "        vertical-align: top;\n",
       "    }\n",
       "\n",
       "    .dataframe thead th {\n",
       "        text-align: right;\n",
       "    }\n",
       "</style>\n",
       "<table border=\"1\" class=\"dataframe\">\n",
       "  <thead>\n",
       "    <tr style=\"text-align: right;\">\n",
       "      <th></th>\n",
       "      <th>Column Name</th>\n",
       "      <th>Missing Values</th>\n",
       "      <th>Missing Values (%)</th>\n",
       "    </tr>\n",
       "  </thead>\n",
       "  <tbody>\n",
       "    <tr>\n",
       "      <th>0</th>\n",
       "      <td>File Name</td>\n",
       "      <td>0</td>\n",
       "      <td>0.0</td>\n",
       "    </tr>\n",
       "    <tr>\n",
       "      <th>1</th>\n",
       "      <td>Caption</td>\n",
       "      <td>0</td>\n",
       "      <td>0.0</td>\n",
       "    </tr>\n",
       "    <tr>\n",
       "      <th>2</th>\n",
       "      <td>LABEL</td>\n",
       "      <td>0</td>\n",
       "      <td>0.0</td>\n",
       "    </tr>\n",
       "  </tbody>\n",
       "</table>\n",
       "</div>"
      ],
      "text/plain": [
       "  Column Name  Missing Values  Missing Values (%)\n",
       "0   File Name               0                 0.0\n",
       "1     Caption               0                 0.0\n",
       "2       LABEL               0                 0.0"
      ]
     },
     "execution_count": 79,
     "metadata": {},
     "output_type": "execute_result"
    }
   ],
   "source": [
    "# Check for missing values in the DataFrame\n",
    "# missing_values = df.isnull().sum()\n",
    "# missing_values\n",
    "missing_val_df = pd.DataFrame().from_records([{'Column Name':col, \n",
    "                                               'Missing Values': len(df[df[col].isna()]), \n",
    "                                               'Missing Values (%)':np.round(len(df[df[col].isna()])/len(df), 4)*100}\n",
    "                                              for col in df.columns])\n",
    "print('Missing values before data cleaning')\n",
    "missing_val_df"
   ]
  },
  {
   "cell_type": "code",
   "execution_count": 31,
   "metadata": {},
   "outputs": [
    {
     "data": {
      "text/plain": [
       "neutral     1771\n",
       "positive    1646\n",
       "negative    1452\n",
       "Name: LABEL, dtype: int64"
      ]
     },
     "execution_count": 31,
     "metadata": {},
     "output_type": "execute_result"
    }
   ],
   "source": [
    "# Check the distribution of the sentiment labels\n",
    "label_distribution = df['LABEL'].value_counts()\n",
    "label_distribution"
   ]
  },
  {
   "cell_type": "markdown",
   "metadata": {},
   "source": [
    "As for the distribution of sentiment labels, we have:\n",
    "<table><tr>\n",
    "<th>Count</th>\n",
    "<th>Label</th>\n",
    "</tr></thead>\n",
    "<tr>\n",
    "<td>1771</td><td> Neutral</td>\n",
    "</tr>\n",
    "<tr>\n",
    "<td>1646</td><td> Positive</td>\n",
    "</tr>\n",
    "<tr>\n",
    "<td>1452</td><td> Negative</td>\n",
    "</tr>\n",
    "</table>\n",
    "The classes are relatively balanced, which is good for model training."
   ]
  },
  {
   "cell_type": "markdown",
   "metadata": {},
   "source": [
    "### To preprocess the text data , below steps to be done:\n",
    "<ol>\n",
    "<li><b>Tokenization:</b> Convert each text into a sequence of integers.</li>\n",
    "<li><b>Padding:</b> Make all sequences have the same length by padding shorter ones with zeros.</li>\n",
    "<li><b>Label Encoding:</b> Convert the text labels (\"positive,\" \"neutral,\" \"negative\") into numerical form.</li>\n",
    "</ol>\n",
    "\n",
    "We will use TensorFlow's text preprocessing utilities for these tasks."
   ]
  },
  {
   "cell_type": "code",
   "execution_count": 80,
   "metadata": {},
   "outputs": [],
   "source": [
    "# Initialize the tokenizer with a specific vocabulary size and out-of-vocabulary token\n",
    "vocab_size = 10000\n",
    "oov_token = \"<OOV>\"\n",
    "tokenizer = Tokenizer(num_words=vocab_size, oov_token=oov_token)\n",
    "# Fit the tokenizer on the text data\n",
    "tokenizer.fit_on_texts(df['Caption'])"
   ]
  },
  {
   "cell_type": "code",
   "execution_count": 81,
   "metadata": {},
   "outputs": [
    {
     "data": {
      "text/plain": [
       "(15,\n",
       " 100,\n",
       " array([  55,   16,  134,   62,   16, 2236,    6, 1755,   13,  116,   10,\n",
       "          30, 5437, 5438, 5439,    0,    0,    0,    0,    0,    0,    0,\n",
       "           0,    0,    0,    0,    0,    0,    0,    0,    0,    0,    0,\n",
       "           0,    0,    0,    0,    0,    0,    0,    0,    0,    0,    0,\n",
       "           0,    0,    0,    0,    0,    0,    0,    0,    0,    0,    0,\n",
       "           0,    0,    0,    0,    0,    0,    0,    0,    0,    0,    0,\n",
       "           0,    0,    0,    0,    0,    0,    0,    0,    0,    0,    0,\n",
       "           0,    0,    0,    0,    0,    0,    0,    0,    0,    0,    0,\n",
       "           0,    0,    0,    0,    0,    0,    0,    0,    0,    0,    0,\n",
       "           0]))"
      ]
     },
     "execution_count": 81,
     "metadata": {},
     "output_type": "execute_result"
    }
   ],
   "source": [
    "\n",
    "# Convert each text into a sequence of integers\n",
    "sequences = tokenizer.texts_to_sequences(df['Caption'])\n",
    "# Check the length of a random sequence before padding\n",
    "len_before_padding = len(sequences[42])\n",
    "\n",
    "# Pad sequences to make them of the same length\n",
    "padding_type = 'post'\n",
    "trunc_type = 'post'\n",
    "max_length = 100  # You can adjust this based on your specific needs\n",
    "padded_sequences = pad_sequences(sequences, padding=padding_type, truncating=trunc_type, maxlen=max_length)\n",
    "\n",
    "# Check the length of the same random sequence after padding\n",
    "len_after_padding = len(padded_sequences[42])\n",
    "len_before_padding, len_after_padding, padded_sequences[42]"
   ]
  },
  {
   "cell_type": "markdown",
   "metadata": {},
   "source": [
    "### Split the data into training, validation, and test sets"
   ]
  },
  {
   "cell_type": "code",
   "execution_count": 85,
   "metadata": {},
   "outputs": [],
   "source": [
    "# Split the data into training, validation, and test sets\n",
    "X_train, X_temp, y_train, y_temp = train_test_split(padded_sequences, numerical_labels, test_size=0.3, random_state=42)\n",
    "X_val, X_test, y_val, y_test = train_test_split(X_temp, y_temp, test_size=0.5, random_state=42)\n"
   ]
  },
  {
   "cell_type": "markdown",
   "metadata": {},
   "source": [
    "### CNN for Text Classification\n",
    "Convolutional Neural Networks (CNNs) are not just for image classification; they can also be used for text classification. \n",
    "\n",
    "Below is the sample article \n",
    "<a href=\"https://medium.com/voice-tech-podcast/text-classification-using-cnn-9ade8155dfb9\">CNN for Text Classification</a>"
   ]
  },
  {
   "cell_type": "code",
   "execution_count": 90,
   "metadata": {},
   "outputs": [
    {
     "name": "stdout",
     "output_type": "stream",
     "text": [
      "Epoch 1/10\n",
      "107/107 [==============================] - 5s 36ms/step - loss: 1.0352 - accuracy: 0.4712 - val_loss: 0.9093 - val_accuracy: 0.5507\n",
      "Epoch 2/10\n",
      " 66/107 [=================>............] - ETA: 1s - loss: 0.5586 - accuracy: 0.8097"
     ]
    }
   ],
   "source": [
    "# Initialize the CNN model\n",
    "cnn_model = Sequential([\n",
    "    Embedding(vocab_size, 128, input_length=max_length),\n",
    "    Conv1D(128, 5, activation='relu'),\n",
    "    GlobalMaxPooling1D(),\n",
    "    Dense(64, activation='relu'),\n",
    "    Dense(3, activation='softmax')\n",
    "])\n",
    "# Compile the model\n",
    "cnn_model.compile(loss='sparse_categorical_crossentropy', optimizer='adam', metrics=['accuracy'])\n",
    "# For example, to train the CNN model\n",
    "history_cnn=cnn_model.fit(X_train, y_train, epochs=10, validation_data=(X_val, y_val))"
   ]
  },
  {
   "cell_type": "markdown",
   "metadata": {},
   "source": [
    "RNN for Text Classification\n",
    "Recurrent Neural Networks (RNNs), specifically LSTMs or GRUs, are commonly used for text classification. Here's how you could build an RNN model:"
   ]
  },
  {
   "cell_type": "code",
   "execution_count": 57,
   "metadata": {},
   "outputs": [
    {
     "name": "stdout",
     "output_type": "stream",
     "text": [
      "Epoch 1/10\n",
      "107/107 [==============================] - 17s 123ms/step - loss: 1.0979 - accuracy: 0.3506 - val_loss: 1.0972 - val_accuracy: 0.3384\n",
      "Epoch 2/10\n",
      "107/107 [==============================] - 23s 219ms/step - loss: 1.0969 - accuracy: 0.3562 - val_loss: 1.0965 - val_accuracy: 0.3575\n",
      "Epoch 3/10\n",
      "107/107 [==============================] - 17s 156ms/step - loss: 1.0967 - accuracy: 0.3562 - val_loss: 1.0969 - val_accuracy: 0.3575\n",
      "Epoch 4/10\n",
      "107/107 [==============================] - 19s 177ms/step - loss: 1.0964 - accuracy: 0.3580 - val_loss: 1.0966 - val_accuracy: 0.3575\n",
      "Epoch 5/10\n",
      "107/107 [==============================] - 20s 183ms/step - loss: 1.0976 - accuracy: 0.3457 - val_loss: 1.0966 - val_accuracy: 0.3575\n",
      "Epoch 6/10\n",
      "107/107 [==============================] - 18s 171ms/step - loss: 1.0966 - accuracy: 0.3553 - val_loss: 1.0965 - val_accuracy: 0.3575\n",
      "Epoch 7/10\n",
      "107/107 [==============================] - 19s 175ms/step - loss: 1.0963 - accuracy: 0.3568 - val_loss: 1.0966 - val_accuracy: 0.3575\n",
      "Epoch 8/10\n",
      "107/107 [==============================] - 19s 177ms/step - loss: 1.0965 - accuracy: 0.3577 - val_loss: 1.0968 - val_accuracy: 0.3575\n",
      "Epoch 9/10\n",
      "107/107 [==============================] - 19s 178ms/step - loss: 1.0964 - accuracy: 0.3539 - val_loss: 1.0968 - val_accuracy: 0.3575\n",
      "Epoch 10/10\n",
      "107/107 [==============================] - 19s 176ms/step - loss: 1.0961 - accuracy: 0.3553 - val_loss: 1.0971 - val_accuracy: 0.3575\n"
     ]
    }
   ],
   "source": [
    "\n",
    "# Initialize the RNN model\n",
    "rnn_model = Sequential([\n",
    "    Embedding(vocab_size, 128, input_length=max_length),\n",
    "    LSTM(128),\n",
    "    Dense(64, activation='relu'),\n",
    "    Dense(3, activation='softmax')\n",
    "])\n",
    "\n",
    "# Compile the model\n",
    "rnn_model.compile(loss='sparse_categorical_crossentropy', optimizer='adam', metrics=['accuracy'])\n",
    "history_rnn= rnn_model.fit(X_train, y_train, epochs=10, validation_data=(X_val, y_val))"
   ]
  },
  {
   "cell_type": "markdown",
   "metadata": {},
   "source": [
    "Transformer for Text Classification\n",
    "The Transformer architecture has become the standard for many NLP tasks. You could use the Hugging Face Transformers library to use a pre-trained Transformer model, or build a simpler one from scratch. Here's a very simplified version:\n",
    "\n",
    "python\n"
   ]
  },
  {
   "cell_type": "code",
   "execution_count": 60,
   "metadata": {},
   "outputs": [
    {
     "name": "stdout",
     "output_type": "stream",
     "text": [
      "Epoch 1/10\n",
      "107/107 [==============================] - 31s 271ms/step - loss: 1.0978 - accuracy: 0.3316 - val_loss: 1.0946 - val_accuracy: 0.3575\n",
      "Epoch 2/10\n",
      "107/107 [==============================] - 32s 300ms/step - loss: 0.9511 - accuracy: 0.5029 - val_loss: 0.8734 - val_accuracy: 0.6123\n",
      "Epoch 3/10\n",
      "107/107 [==============================] - 31s 293ms/step - loss: 0.5200 - accuracy: 0.7785 - val_loss: 0.7308 - val_accuracy: 0.6904\n",
      "Epoch 4/10\n",
      "107/107 [==============================] - 33s 309ms/step - loss: 0.2942 - accuracy: 0.8859 - val_loss: 0.9502 - val_accuracy: 0.6932\n",
      "Epoch 5/10\n",
      "107/107 [==============================] - 35s 330ms/step - loss: 0.1274 - accuracy: 0.9528 - val_loss: 1.0743 - val_accuracy: 0.6986\n",
      "Epoch 6/10\n",
      "107/107 [==============================] - 41s 385ms/step - loss: 0.0663 - accuracy: 0.9771 - val_loss: 1.4283 - val_accuracy: 0.7000\n",
      "Epoch 7/10\n",
      "107/107 [==============================] - 45s 418ms/step - loss: 0.0438 - accuracy: 0.9862 - val_loss: 1.6621 - val_accuracy: 0.6904\n",
      "Epoch 8/10\n",
      "107/107 [==============================] - 44s 416ms/step - loss: 0.0303 - accuracy: 0.9894 - val_loss: 1.7191 - val_accuracy: 0.6890\n",
      "Epoch 9/10\n",
      "107/107 [==============================] - 44s 412ms/step - loss: 0.0274 - accuracy: 0.9912 - val_loss: 1.9497 - val_accuracy: 0.6945\n",
      "Epoch 10/10\n",
      "107/107 [==============================] - 44s 413ms/step - loss: 0.0147 - accuracy: 0.9956 - val_loss: 1.9870 - val_accuracy: 0.6863\n"
     ]
    }
   ],
   "source": [
    "\n",
    "# Define the input layer\n",
    "input_layer = Input(shape=(max_length,))\n",
    "\n",
    "# Embedding layer\n",
    "embedding_layer = Embedding(vocab_size, 128)(input_layer)\n",
    "\n",
    "# Multi-head self-attention layer\n",
    "attention = MultiHeadAttention(num_heads=4, key_dim=128)(embedding_layer, embedding_layer, embedding_layer)\n",
    "\n",
    "# Pooling layer to reduce sequence length\n",
    "pooled_attention = GlobalAveragePooling1D()(attention)\n",
    "\n",
    "# Fully-connected layer\n",
    "dense_layer = Dense(64, activation='relu')(pooled_attention)\n",
    "\n",
    "# Output layer\n",
    "output_layer = Dense(3, activation='softmax')(dense_layer)\n",
    "\n",
    "# Create the model\n",
    "transformer_model = Model(inputs=input_layer, outputs=output_layer)\n",
    "\n",
    "# Compile the model\n",
    "transformer_model.compile(loss='sparse_categorical_crossentropy', optimizer='adam', metrics=['accuracy'])\n",
    "history_transformer=transformer_model.fit(X_train, y_train, epochs=10, validation_data=(X_val, y_val))\n"
   ]
  },
  {
   "cell_type": "markdown",
   "metadata": {},
   "source": [
    "In this example, we train the model for 10 epochs using a batch size of 32. The validation_data parameter allows us to specify a validation set that the model will be evaluated against after each epoch.\n",
    "\n",
    "Monitoring Metrics\n",
    "While training, it's essential to monitor several key metrics to understand how well the model is performing. These usually include:\n",
    "\n",
    "Loss: Measures how well the model is doing, with lower values being better.\n",
    "Accuracy: The proportion of correctly classified samples.\n",
    "Evaluation Metrics and Testing\n",
    "After training, you want to evaluate the model's performance on a separate test set that it has never seen before. Common metrics for classification problems like this include:\n",
    "\n",
    "Accuracy: The percentage of correctly classified samples.\n",
    "Precision, Recall, F1-Score: These metrics provide a more comprehensive view of how well your model is performing, especially if the classes are imbalanced."
   ]
  },
  {
   "cell_type": "code",
   "execution_count": 51,
   "metadata": {},
   "outputs": [
    {
     "name": "stdout",
     "output_type": "stream",
     "text": [
      "23/23 [==============================] - 0s 6ms/step - loss: 1.1389 - accuracy: 0.7031\n",
      "23/23 [==============================] - 0s 6ms/step\n"
     ]
    }
   ],
   "source": [
    "# Evaluate the model on the test set\n",
    "loss, accuracy = cnn_model.evaluate(X_test, y_test)\n",
    "\n",
    "# Optionally, you can use scikit-learn to calculate more detailed metrics\n",
    "\n",
    "# Get the model predictions\n",
    "y_pred = np.argmax(cnn_model.predict(X_test), axis=-1)\n",
    "\n",
    "# Calculate classification report\n",
    "report = classification_report(y_test, y_pred)\n"
   ]
  },
  {
   "cell_type": "code",
   "execution_count": 52,
   "metadata": {},
   "outputs": [
    {
     "name": "stdout",
     "output_type": "stream",
     "text": [
      "23/23 [==============================] - 1s 31ms/step - loss: 1.0931 - accuracy: 0.3885\n",
      "23/23 [==============================] - 1s 28ms/step\n"
     ]
    },
    {
     "name": "stderr",
     "output_type": "stream",
     "text": [
      "c:\\ProgramData\\Anaconda3\\lib\\site-packages\\sklearn\\metrics\\_classification.py:1318: UndefinedMetricWarning: Precision and F-score are ill-defined and being set to 0.0 in labels with no predicted samples. Use `zero_division` parameter to control this behavior.\n",
      "  _warn_prf(average, modifier, msg_start, len(result))\n",
      "c:\\ProgramData\\Anaconda3\\lib\\site-packages\\sklearn\\metrics\\_classification.py:1318: UndefinedMetricWarning: Precision and F-score are ill-defined and being set to 0.0 in labels with no predicted samples. Use `zero_division` parameter to control this behavior.\n",
      "  _warn_prf(average, modifier, msg_start, len(result))\n",
      "c:\\ProgramData\\Anaconda3\\lib\\site-packages\\sklearn\\metrics\\_classification.py:1318: UndefinedMetricWarning: Precision and F-score are ill-defined and being set to 0.0 in labels with no predicted samples. Use `zero_division` parameter to control this behavior.\n",
      "  _warn_prf(average, modifier, msg_start, len(result))\n"
     ]
    }
   ],
   "source": [
    "# Evaluate the model on the test set\n",
    "loss, accuracy = rnn_model.evaluate(X_test, y_test)\n",
    "\n",
    "# Optionally, you can use scikit-learn to calculate more detailed metrics\n",
    "\n",
    "# Get the model predictions\n",
    "y_pred = np.argmax(rnn_model.predict(X_test), axis=-1)\n",
    "\n",
    "# Calculate classification report\n",
    "report = classification_report(y_test, y_pred)\n"
   ]
  },
  {
   "cell_type": "code",
   "execution_count": 53,
   "metadata": {},
   "outputs": [
    {
     "name": "stdout",
     "output_type": "stream",
     "text": [
      "23/23 [==============================] - 1s 62ms/step - loss: 1.9335 - accuracy: 0.6689\n",
      "23/23 [==============================] - 2s 61ms/step\n"
     ]
    }
   ],
   "source": [
    "# Evaluate the model on the test set\n",
    "loss, accuracy = transformer_model.evaluate(X_test, y_test)\n",
    "\n",
    "# Optionally, you can use scikit-learn to calculate more detailed metrics\n",
    "\n",
    "# Get the model predictions\n",
    "y_pred = np.argmax(transformer_model.predict(X_test), axis=-1)\n",
    "\n",
    "# Calculate classification report\n",
    "report = classification_report(y_test, y_pred)"
   ]
  },
  {
   "cell_type": "markdown",
   "metadata": {},
   "source": [
    "visual representation often makes it easier to interpret the model's performance. Here are some common types of visualizations you can use:\n",
    "\n",
    "1. Training and Validation Loss/Accuracy Curves\n",
    "Plotting the training and validation loss and accuracy over each epoch can help you understand how well the model is learning. If the validation loss starts increasing while the training loss is decreasing, it's a sign of overfitting."
   ]
  },
  {
   "cell_type": "code",
   "execution_count": 58,
   "metadata": {},
   "outputs": [
    {
     "data": {
      "image/png": "[encoded data removed]",
      "text/plain": [
       "<Figure size 432x288 with 1 Axes>"
      ]
     },
     "metadata": {
      "needs_background": "light"
     },
     "output_type": "display_data"
    },
    {
     "data": {
      "image/png": "[encoded data removed]",
      "text/plain": [
       "<Figure size 432x288 with 1 Axes>"
      ]
     },
     "metadata": {
      "needs_background": "light"
     },
     "output_type": "display_data"
    }
   ],
   "source": [
    "\n",
    "\n",
    "# Plot training & validation accuracy values\n",
    "plt.plot(history_cnn.history['accuracy'])\n",
    "plt.plot(history_cnn.history['val_accuracy'])\n",
    "plt.title('Model accuracy')\n",
    "plt.ylabel('Accuracy')\n",
    "plt.xlabel('Epoch')\n",
    "plt.legend(['Train', 'Validation'], loc='upper left')\n",
    "plt.show()\n",
    "\n",
    "# Plot training & validation loss values\n",
    "plt.plot(history_cnn.history['loss'])\n",
    "plt.plot(history_cnn.history['val_loss'])\n",
    "plt.title('Model loss')\n",
    "plt.ylabel('Loss')\n",
    "plt.xlabel('Epoch')\n",
    "plt.legend(['Train', 'Validation'], loc='upper left')\n",
    "plt.show()\n"
   ]
  },
  {
   "cell_type": "code",
   "execution_count": 59,
   "metadata": {},
   "outputs": [
    {
     "data": {
      "image/png": "[encoded data removed]",
      "text/plain": [
       "<Figure size 432x288 with 1 Axes>"
      ]
     },
     "metadata": {
      "needs_background": "light"
     },
     "output_type": "display_data"
    },
    {
     "data": {
      "image/png": "[encoded data removed]",
      "text/plain": [
       "<Figure size 432x288 with 1 Axes>"
      ]
     },
     "metadata": {
      "needs_background": "light"
     },
     "output_type": "display_data"
    }
   ],
   "source": [
    "\n",
    "\n",
    "# Plot training & validation accuracy values\n",
    "plt.plot(history_rnn.history['accuracy'])\n",
    "plt.plot(history_rnn.history['val_accuracy'])\n",
    "plt.title('Model accuracy')\n",
    "plt.ylabel('Accuracy')\n",
    "plt.xlabel('Epoch')\n",
    "plt.legend(['Train', 'Validation'], loc='upper left')\n",
    "plt.show()\n",
    "\n",
    "# Plot training & validation loss values\n",
    "plt.plot(history_rnn.history['loss'])\n",
    "plt.plot(history_rnn.history['val_loss'])\n",
    "plt.title('Model loss')\n",
    "plt.ylabel('Loss')\n",
    "plt.xlabel('Epoch')\n",
    "plt.legend(['Train', 'Validation'], loc='upper left')\n",
    "plt.show()\n"
   ]
  },
  {
   "cell_type": "code",
   "execution_count": 61,
   "metadata": {},
   "outputs": [
    {
     "data": {
      "image/png": "[encoded data removed]",
      "text/plain": [
       "<Figure size 432x288 with 1 Axes>"
      ]
     },
     "metadata": {
      "needs_background": "light"
     },
     "output_type": "display_data"
    },
    {
     "data": {
      "image/png": "[encoded data removed]",
      "text/plain": [
       "<Figure size 432x288 with 1 Axes>"
      ]
     },
     "metadata": {
      "needs_background": "light"
     },
     "output_type": "display_data"
    }
   ],
   "source": [
    "\n",
    "\n",
    "# Plot training & validation accuracy values\n",
    "plt.plot(history_transformer.history['accuracy'])\n",
    "plt.plot(history_transformer.history['val_accuracy'])\n",
    "plt.title('Model accuracy')\n",
    "plt.ylabel('Accuracy')\n",
    "plt.xlabel('Epoch')\n",
    "plt.legend(['Train', 'Validation'], loc='upper left')\n",
    "plt.show()\n",
    "\n",
    "# Plot training & validation loss values\n",
    "plt.plot(history_transformer.history['loss'])\n",
    "plt.plot(history_transformer.history['val_loss'])\n",
    "plt.title('Model loss')\n",
    "plt.ylabel('Loss')\n",
    "plt.xlabel('Epoch')\n",
    "plt.legend(['Train', 'Validation'], loc='upper left')\n",
    "plt.show()\n"
   ]
  },
  {
   "cell_type": "markdown",
   "metadata": {},
   "source": [
    "Confusion Matrix\n",
    "A confusion matrix gives a detailed breakdown of how the model's predictions compare to the actual labels. It's especially useful for multi-class classification problems."
   ]
  },
  {
   "cell_type": "code",
   "execution_count": 62,
   "metadata": {},
   "outputs": [
    {
     "data": {
      "image/png": "[encoded data removed]",
      "text/plain": [
       "<Figure size 432x288 with 2 Axes>"
      ]
     },
     "metadata": {
      "needs_background": "light"
     },
     "output_type": "display_data"
    }
   ],
   "source": [
    "# Calculate the confusion matrix\n",
    "conf_matrix = confusion_matrix(y_test, y_pred)\n",
    "\n",
    "# Plot the confusion matrix\n",
    "sns.heatmap(conf_matrix, annot=True, fmt='d', cmap='Blues')\n",
    "plt.ylabel('Actual')\n",
    "plt.xlabel('Predicted')\n",
    "plt.show()"
   ]
  },
  {
   "cell_type": "markdown",
   "metadata": {},
   "source": [
    "Classification Report\n",
    "While the classification report is often shown in a tabular format, you could also visualize it to make it more interpretable."
   ]
  },
  {
   "cell_type": "code",
   "execution_count": 63,
   "metadata": {},
   "outputs": [
    {
     "data": {
      "image/png": "[encoded data removed]",
      "text/plain": [
       "<Figure size 432x288 with 1 Axes>"
      ]
     },
     "metadata": {
      "needs_background": "light"
     },
     "output_type": "display_data"
    }
   ],
   "source": [
    "# Generate classification report\n",
    "report = classification_report(y_test, y_pred, output_dict=True)\n",
    "\n",
    "# Convert to DataFrame for easier visualization\n",
    "report_df = pd.DataFrame(report).transpose()\n",
    "\n",
    "# Plot as a bar chart\n",
    "report_df[['precision','recall','f1-score']].drop(['accuracy','macro avg','weighted avg']).plot(kind='bar')\n",
    "plt.title('Classification Report')\n",
    "plt.show()\n"
   ]
  },
  {
   "cell_type": "markdown",
   "metadata": {},
   "source": [
    "The ROC curve and AUC are generally defined for binary classification problems. For multi-class classification problems, you can create ROC curves and calculate AUC in one of the following ways:\n",
    "\n",
    "One-vs-All (OvA) strategy: Compute the ROC curve and AUC for each class versus all other classes.\n",
    "One-vs-One (OvO) strategy: Compute the ROC curve and AUC for each pair of classes. This method is usually computationally expensive for a large number of classes.\n",
    "Micro- and Macro-averaging: Micro-averaging aggregates the contributions of all classes to compute the average metric, whereas Macro-averaging computes the metric independently for each class and then takes the average."
   ]
  },
  {
   "cell_type": "code",
   "execution_count": 65,
   "metadata": {},
   "outputs": [
    {
     "data": {
      "image/png": "[encoded data removed]",
      "text/plain": [
       "<Figure size 432x288 with 1 Axes>"
      ]
     },
     "metadata": {
      "needs_background": "light"
     },
     "output_type": "display_data"
    },
    {
     "data": {
      "image/png": "[encoded data removed]",
      "text/plain": [
       "<Figure size 432x288 with 1 Axes>"
      ]
     },
     "metadata": {
      "needs_background": "light"
     },
     "output_type": "display_data"
    },
    {
     "data": {
      "image/png": "[encoded data removed]",
      "text/plain": [
       "<Figure size 432x288 with 1 Axes>"
      ]
     },
     "metadata": {
      "needs_background": "light"
     },
     "output_type": "display_data"
    }
   ],
   "source": [
    "from sklearn.metrics import roc_curve, auc\n",
    "from sklearn.preprocessing import label_binarize\n",
    "import matplotlib.pyplot as plt\n",
    "import numpy as np\n",
    "\n",
    "# Binarize the labels for multi-class ROC curve\n",
    "y_test_bin = label_binarize(y_test, classes=[0, 1, 2])\n",
    "y_pred_bin = label_binarize(y_pred, classes=[0, 1, 2])\n",
    "n_classes = y_test_bin.shape[1]\n",
    "\n",
    "# Compute ROC curve and ROC area for each class\n",
    "fpr = dict()\n",
    "tpr = dict()\n",
    "roc_auc = dict()\n",
    "for i in range(n_classes):\n",
    "    fpr[i], tpr[i], _ = roc_curve(y_test_bin[:, i], y_pred_bin[:, i])\n",
    "    roc_auc[i] = auc(fpr[i], tpr[i])\n",
    "\n",
    "# Plot the ROC curve for each class\n",
    "for i in range(n_classes):\n",
    "    plt.figure()\n",
    "    plt.plot(fpr[i], tpr[i], label='ROC curve (area = %0.2f)' % roc_auc[i])\n",
    "    plt.plot([0, 1], [0, 1], 'k--')\n",
    "    plt.xlim([0.0, 1.0])\n",
    "    plt.ylim([0.0, 1.05])\n",
    "    plt.xlabel('False Positive Rate')\n",
    "    plt.ylabel('True Positive Rate')\n",
    "    plt.title('Receiver Operating Characteristic for class {}'.format(i))\n",
    "    plt.legend(loc=\"lower right\")\n",
    "    plt.show()\n"
   ]
  },
  {
   "cell_type": "markdown",
   "metadata": {},
   "source": [
    "The ROC curve and AUC are generally defined for binary classification problems. For multi-class classification problems, you can create ROC curves and calculate AUC in one of the following ways:\n",
    "\n",
    "One-vs-All (OvA) strategy: Compute the ROC curve and AUC for each class versus all other classes.\n",
    "One-vs-One (OvO) strategy: Compute the ROC curve and AUC for each pair of classes. This method is usually computationally expensive for a large number of classes.\n",
    "Micro- and Macro-averaging: Micro-averaging aggregates the contributions of all classes to compute the average metric, whereas Macro-averaging computes the metric independently for each class and then takes the average.\n",
    "Here's how you can implement the OvA strategy:"
   ]
  },
  {
   "cell_type": "code",
   "execution_count": 67,
   "metadata": {},
   "outputs": [
    {
     "data": {
      "image/png": "[encoded data removed]",
      "text/plain": [
       "<Figure size 432x288 with 1 Axes>"
      ]
     },
     "metadata": {
      "needs_background": "light"
     },
     "output_type": "display_data"
    }
   ],
   "source": [
    "from sklearn.metrics import precision_recall_curve\n",
    "from sklearn.preprocessing import label_binarize\n",
    "import matplotlib.pyplot as plt\n",
    "\n",
    "# Binarize the labels\n",
    "y_test_bin = label_binarize(y_test, classes=[0, 1, 2])\n",
    "y_pred_bin = label_binarize(y_pred, classes=[0, 1, 2])\n",
    "n_classes = y_test_bin.shape[1]\n",
    "\n",
    "# Compute Precision-Recall and plot curve for each class\n",
    "for i in range(n_classes):\n",
    "    precision, recall, _ = precision_recall_curve(y_test_bin[:, i], y_pred_bin[:, i])\n",
    "    plt.plot(recall, precision, lw=2, label='class {}'.format(i))\n",
    "\n",
    "plt.xlabel(\"recall\")\n",
    "plt.ylabel(\"precision\")\n",
    "plt.legend(loc=\"best\")\n",
    "plt.title(\"precision vs. recall curve\")\n",
    "plt.show()\n"
   ]
  },
  {
   "cell_type": "markdown",
   "metadata": {},
   "source": [
    "Word Embedding Visualization\n",
    "If you're using an embedding layer in your neural networks, you can visualize the word vectors to see how words are grouped together in the embedding space."
   ]
  },
  {
   "cell_type": "code",
   "execution_count": 68,
   "metadata": {},
   "outputs": [
    {
     "name": "stdout",
     "output_type": "stream",
     "text": [
      "Epoch 1/10\n",
      "107/107 [==============================] - 3s 32ms/step - loss: 0.0039 - accuracy: 0.9994\n",
      "Epoch 2/10\n",
      "107/107 [==============================] - 4s 37ms/step - loss: 0.0047 - accuracy: 0.9991\n",
      "Epoch 3/10\n",
      "107/107 [==============================] - 5s 45ms/step - loss: 0.0039 - accuracy: 0.9991\n",
      "Epoch 4/10\n",
      "107/107 [==============================] - 4s 39ms/step - loss: 0.0036 - accuracy: 0.9994\n",
      "Epoch 5/10\n",
      "107/107 [==============================] - 4s 37ms/step - loss: 0.0050 - accuracy: 0.9991\n",
      "Epoch 6/10\n",
      "107/107 [==============================] - 5s 47ms/step - loss: 0.0034 - accuracy: 0.9994\n",
      "Epoch 7/10\n",
      "107/107 [==============================] - 5s 47ms/step - loss: 0.0045 - accuracy: 0.9991\n",
      "Epoch 8/10\n",
      "107/107 [==============================] - 6s 58ms/step - loss: 0.0030 - accuracy: 0.9994\n",
      "Epoch 9/10\n",
      "107/107 [==============================] - 5s 47ms/step - loss: 0.0042 - accuracy: 0.9991\n",
      "Epoch 10/10\n",
      "107/107 [==============================] - 5s 46ms/step - loss: 0.0038 - accuracy: 0.9991\n"
     ]
    },
    {
     "data": {
      "text/plain": [
       "<keras.callbacks.History at 0x12838f37790>"
      ]
     },
     "execution_count": 68,
     "metadata": {},
     "output_type": "execute_result"
    }
   ],
   "source": [
    "# Save the embeddings\n",
    "embeddings = cnn_model.layers[0].get_weights()[0]\n",
    "\n",
    "# Use TensorBoard to visualize embeddings\n",
    "from tensorflow.keras.callbacks import TensorBoard\n",
    "import os\n",
    "\n",
    "log_dir = os.path.join(\"logs\", \"embeddings\")\n",
    "tensorboard_callback = TensorBoard(log_dir=log_dir, embeddings_freq=1)\n",
    "\n",
    "cnn_model.fit(X_train, y_train, epochs=10, callbacks=[tensorboard_callback])\n"
   ]
  },
  {
   "cell_type": "code",
   "execution_count": 69,
   "metadata": {},
   "outputs": [
    {
     "data": {
      "image/png": "[encoded data removed]",
      "text/plain": [
       "<Figure size 720x504 with 1 Axes>"
      ]
     },
     "metadata": {
      "needs_background": "light"
     },
     "output_type": "display_data"
    }
   ],
   "source": [
    "# Create a DataFrame with the true and predicted labels\n",
    "df_predictions = pd.DataFrame({'True': y_test, 'Predicted': y_pred})\n",
    "\n",
    "# Count the occurrences of each class\n",
    "count_true = df_predictions['True'].value_counts().sort_index()\n",
    "count_pred = df_predictions['Predicted'].value_counts().sort_index()\n",
    "\n",
    "# Create a bar chart\n",
    "plt.figure(figsize=(10, 7))\n",
    "plt.bar(count_true.index - 0.2, count_true.values, 0.4, label='True')\n",
    "plt.bar(count_pred.index + 0.2, count_pred.values, 0.4, label='Predicted')\n",
    "plt.xlabel('Class')\n",
    "plt.ylabel('Count')\n",
    "plt.legend()\n",
    "plt.show()\n"
   ]
  },
  {
   "cell_type": "markdown",
   "metadata": {},
   "source": []
  },
  {
   "cell_type": "code",
   "execution_count": 70,
   "metadata": {},
   "outputs": [
    {
     "data": {
      "image/png": "[encoded data removed]",
      "text/plain": [
       "<Figure size 720x504 with 2 Axes>"
      ]
     },
     "metadata": {
      "needs_background": "light"
     },
     "output_type": "display_data"
    }
   ],
   "source": [
    "from sklearn.metrics import confusion_matrix\n",
    "import seaborn as sns\n",
    "import matplotlib.pyplot as plt\n",
    "\n",
    "\n",
    "# Generate the confusion matrix\n",
    "conf_matrix = confusion_matrix(y_test, y_pred)\n",
    "\n",
    "# Plot the confusion matrix\n",
    "plt.figure(figsize=(10, 7))\n",
    "sns.heatmap(conf_matrix, annot=True, fmt='d', cmap='Blues')\n",
    "plt.xlabel('Predicted Label')\n",
    "plt.ylabel('True Label')\n",
    "plt.show()\n"
   ]
  },
  {
   "cell_type": "code",
   "execution_count": 71,
   "metadata": {},
   "outputs": [
    {
     "data": {
      "image/png": "[encoded data removed]",
      "text/plain": [
       "<Figure size 432x288 with 1 Axes>"
      ]
     },
     "metadata": {},
     "output_type": "display_data"
    }
   ],
   "source": [
    "# Assuming pred_probs is an array of predicted probabilities for each class for one sample\n",
    "pred_probs = np.array([0.2, 0.5, 0.3])\n",
    "\n",
    "# Create a pie chart\n",
    "labels = ['Class 0', 'Class 1', 'Class 2']\n",
    "plt.pie(pred_probs, labels=labels, autopct='%1.1f%%')\n",
    "plt.title('Predicted Class Distribution for One Sample')\n",
    "plt.show()\n"
   ]
  },
  {
   "cell_type": "markdown",
   "metadata": {},
   "source": []
  },
  {
   "cell_type": "code",
   "execution_count": 72,
   "metadata": {},
   "outputs": [
    {
     "data": {
      "text/html": [
       "<div>\n",
       "<style scoped>\n",
       "    .dataframe tbody tr th:only-of-type {\n",
       "        vertical-align: middle;\n",
       "    }\n",
       "\n",
       "    .dataframe tbody tr th {\n",
       "        vertical-align: top;\n",
       "    }\n",
       "\n",
       "    .dataframe thead th {\n",
       "        text-align: right;\n",
       "    }\n",
       "</style>\n",
       "<table border=\"1\" class=\"dataframe\">\n",
       "  <thead>\n",
       "    <tr style=\"text-align: right;\">\n",
       "      <th></th>\n",
       "      <th>True_Label</th>\n",
       "      <th>Predicted_Label</th>\n",
       "    </tr>\n",
       "  </thead>\n",
       "  <tbody>\n",
       "    <tr>\n",
       "      <th>0</th>\n",
       "      <td>0</td>\n",
       "      <td>2</td>\n",
       "    </tr>\n",
       "    <tr>\n",
       "      <th>1</th>\n",
       "      <td>1</td>\n",
       "      <td>1</td>\n",
       "    </tr>\n",
       "    <tr>\n",
       "      <th>2</th>\n",
       "      <td>2</td>\n",
       "      <td>0</td>\n",
       "    </tr>\n",
       "    <tr>\n",
       "      <th>3</th>\n",
       "      <td>1</td>\n",
       "      <td>1</td>\n",
       "    </tr>\n",
       "    <tr>\n",
       "      <th>4</th>\n",
       "      <td>2</td>\n",
       "      <td>2</td>\n",
       "    </tr>\n",
       "    <tr>\n",
       "      <th>5</th>\n",
       "      <td>1</td>\n",
       "      <td>2</td>\n",
       "    </tr>\n",
       "    <tr>\n",
       "      <th>6</th>\n",
       "      <td>1</td>\n",
       "      <td>1</td>\n",
       "    </tr>\n",
       "    <tr>\n",
       "      <th>7</th>\n",
       "      <td>2</td>\n",
       "      <td>2</td>\n",
       "    </tr>\n",
       "    <tr>\n",
       "      <th>8</th>\n",
       "      <td>0</td>\n",
       "      <td>0</td>\n",
       "    </tr>\n",
       "    <tr>\n",
       "      <th>9</th>\n",
       "      <td>0</td>\n",
       "      <td>2</td>\n",
       "    </tr>\n",
       "    <tr>\n",
       "      <th>10</th>\n",
       "      <td>0</td>\n",
       "      <td>2</td>\n",
       "    </tr>\n",
       "    <tr>\n",
       "      <th>11</th>\n",
       "      <td>0</td>\n",
       "      <td>0</td>\n",
       "    </tr>\n",
       "    <tr>\n",
       "      <th>12</th>\n",
       "      <td>0</td>\n",
       "      <td>1</td>\n",
       "    </tr>\n",
       "    <tr>\n",
       "      <th>13</th>\n",
       "      <td>2</td>\n",
       "      <td>2</td>\n",
       "    </tr>\n",
       "    <tr>\n",
       "      <th>14</th>\n",
       "      <td>2</td>\n",
       "      <td>2</td>\n",
       "    </tr>\n",
       "    <tr>\n",
       "      <th>15</th>\n",
       "      <td>1</td>\n",
       "      <td>1</td>\n",
       "    </tr>\n",
       "    <tr>\n",
       "      <th>16</th>\n",
       "      <td>0</td>\n",
       "      <td>0</td>\n",
       "    </tr>\n",
       "    <tr>\n",
       "      <th>17</th>\n",
       "      <td>1</td>\n",
       "      <td>1</td>\n",
       "    </tr>\n",
       "    <tr>\n",
       "      <th>18</th>\n",
       "      <td>2</td>\n",
       "      <td>2</td>\n",
       "    </tr>\n",
       "    <tr>\n",
       "      <th>19</th>\n",
       "      <td>2</td>\n",
       "      <td>2</td>\n",
       "    </tr>\n",
       "    <tr>\n",
       "      <th>20</th>\n",
       "      <td>2</td>\n",
       "      <td>2</td>\n",
       "    </tr>\n",
       "    <tr>\n",
       "      <th>21</th>\n",
       "      <td>2</td>\n",
       "      <td>0</td>\n",
       "    </tr>\n",
       "    <tr>\n",
       "      <th>22</th>\n",
       "      <td>1</td>\n",
       "      <td>1</td>\n",
       "    </tr>\n",
       "    <tr>\n",
       "      <th>23</th>\n",
       "      <td>2</td>\n",
       "      <td>2</td>\n",
       "    </tr>\n",
       "    <tr>\n",
       "      <th>24</th>\n",
       "      <td>2</td>\n",
       "      <td>2</td>\n",
       "    </tr>\n",
       "    <tr>\n",
       "      <th>25</th>\n",
       "      <td>0</td>\n",
       "      <td>0</td>\n",
       "    </tr>\n",
       "    <tr>\n",
       "      <th>26</th>\n",
       "      <td>2</td>\n",
       "      <td>2</td>\n",
       "    </tr>\n",
       "    <tr>\n",
       "      <th>27</th>\n",
       "      <td>1</td>\n",
       "      <td>2</td>\n",
       "    </tr>\n",
       "    <tr>\n",
       "      <th>28</th>\n",
       "      <td>0</td>\n",
       "      <td>0</td>\n",
       "    </tr>\n",
       "    <tr>\n",
       "      <th>29</th>\n",
       "      <td>2</td>\n",
       "      <td>2</td>\n",
       "    </tr>\n",
       "    <tr>\n",
       "      <th>30</th>\n",
       "      <td>2</td>\n",
       "      <td>2</td>\n",
       "    </tr>\n",
       "    <tr>\n",
       "      <th>31</th>\n",
       "      <td>1</td>\n",
       "      <td>2</td>\n",
       "    </tr>\n",
       "    <tr>\n",
       "      <th>32</th>\n",
       "      <td>0</td>\n",
       "      <td>0</td>\n",
       "    </tr>\n",
       "    <tr>\n",
       "      <th>33</th>\n",
       "      <td>1</td>\n",
       "      <td>1</td>\n",
       "    </tr>\n",
       "    <tr>\n",
       "      <th>34</th>\n",
       "      <td>0</td>\n",
       "      <td>0</td>\n",
       "    </tr>\n",
       "    <tr>\n",
       "      <th>35</th>\n",
       "      <td>1</td>\n",
       "      <td>1</td>\n",
       "    </tr>\n",
       "    <tr>\n",
       "      <th>36</th>\n",
       "      <td>1</td>\n",
       "      <td>2</td>\n",
       "    </tr>\n",
       "    <tr>\n",
       "      <th>37</th>\n",
       "      <td>2</td>\n",
       "      <td>2</td>\n",
       "    </tr>\n",
       "    <tr>\n",
       "      <th>38</th>\n",
       "      <td>0</td>\n",
       "      <td>0</td>\n",
       "    </tr>\n",
       "    <tr>\n",
       "      <th>39</th>\n",
       "      <td>1</td>\n",
       "      <td>1</td>\n",
       "    </tr>\n",
       "    <tr>\n",
       "      <th>40</th>\n",
       "      <td>1</td>\n",
       "      <td>1</td>\n",
       "    </tr>\n",
       "    <tr>\n",
       "      <th>41</th>\n",
       "      <td>1</td>\n",
       "      <td>0</td>\n",
       "    </tr>\n",
       "    <tr>\n",
       "      <th>42</th>\n",
       "      <td>2</td>\n",
       "      <td>2</td>\n",
       "    </tr>\n",
       "    <tr>\n",
       "      <th>43</th>\n",
       "      <td>2</td>\n",
       "      <td>2</td>\n",
       "    </tr>\n",
       "    <tr>\n",
       "      <th>44</th>\n",
       "      <td>2</td>\n",
       "      <td>2</td>\n",
       "    </tr>\n",
       "    <tr>\n",
       "      <th>45</th>\n",
       "      <td>0</td>\n",
       "      <td>2</td>\n",
       "    </tr>\n",
       "    <tr>\n",
       "      <th>46</th>\n",
       "      <td>0</td>\n",
       "      <td>1</td>\n",
       "    </tr>\n",
       "    <tr>\n",
       "      <th>47</th>\n",
       "      <td>1</td>\n",
       "      <td>1</td>\n",
       "    </tr>\n",
       "    <tr>\n",
       "      <th>48</th>\n",
       "      <td>0</td>\n",
       "      <td>0</td>\n",
       "    </tr>\n",
       "    <tr>\n",
       "      <th>49</th>\n",
       "      <td>0</td>\n",
       "      <td>0</td>\n",
       "    </tr>\n",
       "  </tbody>\n",
       "</table>\n",
       "</div>"
      ],
      "text/plain": [
       "    True_Label  Predicted_Label\n",
       "0            0                2\n",
       "1            1                1\n",
       "2            2                0\n",
       "3            1                1\n",
       "4            2                2\n",
       "5            1                2\n",
       "6            1                1\n",
       "7            2                2\n",
       "8            0                0\n",
       "9            0                2\n",
       "10           0                2\n",
       "11           0                0\n",
       "12           0                1\n",
       "13           2                2\n",
       "14           2                2\n",
       "15           1                1\n",
       "16           0                0\n",
       "17           1                1\n",
       "18           2                2\n",
       "19           2                2\n",
       "20           2                2\n",
       "21           2                0\n",
       "22           1                1\n",
       "23           2                2\n",
       "24           2                2\n",
       "25           0                0\n",
       "26           2                2\n",
       "27           1                2\n",
       "28           0                0\n",
       "29           2                2\n",
       "30           2                2\n",
       "31           1                2\n",
       "32           0                0\n",
       "33           1                1\n",
       "34           0                0\n",
       "35           1                1\n",
       "36           1                2\n",
       "37           2                2\n",
       "38           0                0\n",
       "39           1                1\n",
       "40           1                1\n",
       "41           1                0\n",
       "42           2                2\n",
       "43           2                2\n",
       "44           2                2\n",
       "45           0                2\n",
       "46           0                1\n",
       "47           1                1\n",
       "48           0                0\n",
       "49           0                0"
      ]
     },
     "execution_count": 72,
     "metadata": {},
     "output_type": "execute_result"
    }
   ],
   "source": [
    "# Convert to DataFrame for better visualization\n",
    "df_comparison = pd.DataFrame({\n",
    "    'True_Label': y_test,\n",
    "    'Predicted_Label': y_pred\n",
    "})\n",
    "\n",
    "# Show the top 5 samples\n",
    "df_comparison.head(50)\n"
   ]
  }
 ],
 "metadata": {
  "kernelspec": {
   "display_name": "base",
   "language": "python",
   "name": "python3"
  },
  "language_info": {
   "codemirror_mode": {
    "name": "ipython",
    "version": 3
   },
   "file_extension": ".py",
   "mimetype": "text/x-python",
   "name": "python",
   "nbconvert_exporter": "python",
   "pygments_lexer": "ipython3",
   "version": "3.9.12"
  },
  "orig_nbformat": 4
 },
 "nbformat": 4,
 "nbformat_minor": 2
}
