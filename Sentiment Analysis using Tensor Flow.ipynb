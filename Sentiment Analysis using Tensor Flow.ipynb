{
 "cells": [
  {
   "cell_type": "code",
   "execution_count": 3,
   "metadata": {},
   "outputs": [
    {
     "ename": "SyntaxError",
     "evalue": "invalid syntax (170689579.py, line 1)",
     "output_type": "error",
     "traceback": [
      "\u001b[1;36m  Input \u001b[1;32mIn [3]\u001b[1;36m\u001b[0m\n\u001b[1;33m    pip install tweepy\u001b[0m\n\u001b[1;37m        ^\u001b[0m\n\u001b[1;31mSyntaxError\u001b[0m\u001b[1;31m:\u001b[0m invalid syntax\n"
     ]
    }
   ],
   "source": [
    "pip install tweepy\n",
    "#pip install tensorflow\n"
   ]
  },
  {
   "cell_type": "markdown",
   "metadata": {},
   "source": [
    "#Twiiter KEY\n",
    "7PLFddvaCmKONCFjeR02NLlVI\n",
    "\n",
    "#Twitter KEy Secret\n",
    "YSi0ziD0QrnrCkmRLTI7WehkcCMI5bhTNsKD9xYAN5ICSg2j0H"
   ]
  },
  {
   "cell_type": "code",
   "execution_count": null,
   "metadata": {},
   "outputs": [],
   "source": [
    "import tweepy\n",
    "from tensorflow.keras.preprocessing.text import Tokenizer\n",
    "from tensorflow.keras.preprocessing.sequence import pad_sequences\n",
    "from tensorflow.keras.models import Sequential, Model\n",
    "from tensorflow.keras.layers import Embedding, Conv1D, GlobalMaxPooling1D, LSTM, Dense, Input, Dropout, Bidirectional, MultiHeadAttention, LayerNormalization, Flatten\n",
    "\n",
    "import numpy as np\n",
    "\n",
    "# Replace with your own Twitter API credentials\n",
    "consumer_key = '7PLFddvaCmKONCFjeR02NLlVI'\n",
    "consumer_secret = 'YSi0ziD0QrnrCkmRLTI7WehkcCMI5bhTNsKD9xYAN5ICSg2j0H'\n",
    "access_token = '162264807-3X2yMXmNpe6bbe80YlxWAEK1yOj4ucub5tURHTAf'\n",
    "access_token_secret = 'yV1asyDR8GVgcSxpm2Jt1r5PAU8V4RnsNX1UZgAfzPp3k'\n",
    "\n",
    "# Authenticate with Twitter\n",
    "auth = tweepy.OAuthHandler(consumer_key, consumer_secret)\n",
    "auth.set_access_token(access_token, access_token_secret)\n",
    "api = tweepy.API(auth)\n"
   ]
  },
  {
   "cell_type": "code",
   "execution_count": null,
   "metadata": {},
   "outputs": [],
   "source": [
    "tweets = api.search(q='programming', count=100)  # Replace 'programming' with your search term\n",
    "sentences = [tweet.text for tweet in tweets]\n",
    "labels = [1 if 'love' in tweet.text else 0 for tweet in tweets]  # Simplified labeling, 1 for positive, 0 for negative\n"
   ]
  },
  {
   "cell_type": "code",
   "execution_count": null,
   "metadata": {},
   "outputs": [],
   "source": [
    "tokenizer = Tokenizer(num_words=500, oov_token=\"<OOV>\")\n",
    "tokenizer.fit_on_texts(sentences)\n",
    "sequences = tokenizer.texts_to_sequences(sentences)\n",
    "padded_sequences = pad_sequences(sequences, maxlen=50, padding=\"post\")\n",
    "\n",
    "labels = np.array(labels)\n"
   ]
  },
  {
   "cell_type": "code",
   "execution_count": null,
   "metadata": {},
   "outputs": [],
   "source": [
    "model_cnn = Sequential([\n",
    "    Embedding(500, 16, input_length=50),\n",
    "    Conv1D(128, 5, activation='relu'),\n",
    "    GlobalMaxPooling1D(),\n",
    "    Dense(24, activation='relu'),\n",
    "    Dense(1, activation='sigmoid')\n",
    "])\n",
    "\n",
    "model_cnn.compile(loss='binary_crossentropy', optimizer='adam', metrics=['accuracy'])\n",
    "model_cnn.fit(padded_sequences, labels, epochs=5)\n"
   ]
  },
  {
   "cell_type": "code",
   "execution_count": null,
   "metadata": {},
   "outputs": [],
   "source": [
    "model_rnn = Sequential([\n",
    "    Embedding(500, 16, input_length=50),\n",
    "    LSTM(128),\n",
    "    Dense(24, activation='relu'),\n",
    "    Dense(1, activation='sigmoid')\n",
    "])\n",
    "\n",
    "model_rnn.compile(loss='binary_crossentropy', optimizer='adam', metrics=['accuracy'])\n",
    "model_rnn.fit(padded_sequences, labels, epochs=5)\n"
   ]
  },
  {
   "cell_type": "code",
   "execution_count": null,
   "metadata": {},
   "outputs": [],
   "source": [
    "class TransformerBlock(Sequential):\n",
    "    def __init__(self, embed_dim, num_heads):\n",
    "        super(TransformerBlock, self).__init__()\n",
    "        self.att = MultiHeadAttention(num_heads=num_heads, key_dim=embed_dim)\n",
    "        self.ln1 = LayerNormalization(epsilon=1e-6)\n",
    "        self.ln2 = LayerNormalization(epsilon=1e-6)\n",
    "        self.dense = Dense(units=embed_dim, activation=\"relu\")\n",
    "\n",
    "    def call(self, inputs):\n",
    "        attn_output = self.att(inputs, inputs)\n",
    "        out1 = self.ln1(inputs + attn_output)\n",
    "        ffn_output = self.dense(out1)\n",
    "        return self.ln2(out1 + ffn_output)\n",
    "\n",
    "input_layer = Input(shape=(50,))\n",
    "embedding_layer = Embedding(500, 64)(input_layer)\n",
    "transformer_block = TransformerBlock(64, 4)(embedding_layer)\n",
    "flatten = Flatten()(transformer_block)\n",
    "output_layer = Dense(1, activation='sigmoid')(flatten)\n",
    "\n",
    "model_transformer = Model(inputs=input_layer, outputs=output_layer)\n",
    "model_transformer.compile(loss='binary_crossentropy', optimizer='adam', metrics=['accuracy'])\n",
    "model_transformer.fit(padded_sequences, labels, epochs=5)\n"
   ]
  }
 ],
 "metadata": {
  "kernelspec": {
   "display_name": "base",
   "language": "python",
   "name": "python3"
  },
  "language_info": {
   "codemirror_mode": {
    "name": "ipython",
    "version": 3
   },
   "file_extension": ".py",
   "mimetype": "text/x-python",
   "name": "python",
   "nbconvert_exporter": "python",
   "pygments_lexer": "ipython3",
   "version": "3.9.12"
  },
  "orig_nbformat": 4
 },
 "nbformat": 4,
 "nbformat_minor": 2
}
