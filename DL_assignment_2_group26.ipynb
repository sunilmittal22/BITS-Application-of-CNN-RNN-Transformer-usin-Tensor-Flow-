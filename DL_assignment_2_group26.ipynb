{
 "cells": [
  {
   "cell_type": "markdown",
   "metadata": {},
   "source": [
    "## Group No - 26\n",
    "\n",
    "## Group Member Names:\n",
    "1. Sunil Mittal (BITS ID : 2021SC04968)\n",
    "2. Vikram Panwar (BITS ID : 2021SC04958)\n",
    "3. Indira Saha (BITS ID : 2021sc04956)\n",
    "4. \n",
    "\n",
    "## Journal used for the implemetation\n",
    "Journal title:\n",
    "<a href=\"https://link.springer.com/article/10.1007/s00521-023-08236-2\">TSA-CNN-AOA: Twitter sentiment analysis using CNN optimized via arithmetic optimization algorithm</a>\n",
    "\n",
    "<fieldset>\n",
    "<legend>Authors:</legend>\n",
    "<ol>\n",
    "<li>Serpil Aslan</li>\n",
    "<li>Soner Kızıloluk </li>\n",
    "<li>Eser Sert </li>\n",
    "</ol>\n",
    "</fieldset>\n",
    "<fieldset><legend>Journal Name:</legend>\n",
    "TSA-CNN-AOA: Twitter sentiment analysis using CNN optimized via arithmetic optimization algorithm\n",
    "<br/>\n",
    "</fieldset>\n",
    "<fieldset>\n",
    "<legend>Year:</legend>2020</fieldset>"
   ]
  },
  {
   "cell_type": "markdown",
   "metadata": {},
   "source": [
    "# 1. Import the required libraries"
   ]
  },
  {
   "cell_type": "code",
   "execution_count": 1,
   "metadata": {},
   "outputs": [],
   "source": [
    "import pandas as pd\n",
    "import numpy as np\n",
    "from tensorflow.keras.preprocessing.text import Tokenizer\n",
    "from tensorflow.keras.preprocessing.sequence import pad_sequences\n",
    "from tensorflow.keras.models import Sequential,Model\n",
    "from tensorflow.keras.layers import Embedding, Conv1D, GlobalMaxPooling1D, Dense,LSTM,MultiHeadAttention,Input,Embedding,GlobalAveragePooling1D\n",
    "from sklearn.metrics import classification_report,confusion_matrix\n",
    "from sklearn.model_selection import train_test_split\n",
    "from sklearn.preprocessing import LabelEncoder\n",
    "import matplotlib.pyplot as plt\n",
    "import seaborn as sns"
   ]
  },
  {
   "cell_type": "markdown",
   "metadata": {},
   "source": [
    "# 2. Data Acquisition\n",
    "URL : https://www.kaggle.com/datasets/ogvilli/data-sentiment-analysis\n",
    "\n",
    "Load the \"Data_For_Sentiment_Analysis\" excel file in a data frame df"
   ]
  },
  {
   "cell_type": "code",
   "execution_count": 2,
   "metadata": {},
   "outputs": [
    {
     "data": {
      "text/html": [
       "<div>\n",
       "<style scoped>\n",
       "    .dataframe tbody tr th:only-of-type {\n",
       "        vertical-align: middle;\n",
       "    }\n",
       "\n",
       "    .dataframe tbody tr th {\n",
       "        vertical-align: top;\n",
       "    }\n",
       "\n",
       "    .dataframe thead th {\n",
       "        text-align: right;\n",
       "    }\n",
       "</style>\n",
       "<table border=\"1\" class=\"dataframe\">\n",
       "  <thead>\n",
       "    <tr style=\"text-align: right;\">\n",
       "      <th></th>\n",
       "      <th>File Name</th>\n",
       "      <th>Caption</th>\n",
       "      <th>LABEL</th>\n",
       "    </tr>\n",
       "  </thead>\n",
       "  <tbody>\n",
       "    <tr>\n",
       "      <th>0</th>\n",
       "      <td>1.txt</td>\n",
       "      <td>How I feel today #legday #jelly #aching #gym</td>\n",
       "      <td>negative</td>\n",
       "    </tr>\n",
       "    <tr>\n",
       "      <th>1</th>\n",
       "      <td>10.txt</td>\n",
       "      <td>@ArrivaTW absolute disgrace two carriages from...</td>\n",
       "      <td>negative</td>\n",
       "    </tr>\n",
       "    <tr>\n",
       "      <th>2</th>\n",
       "      <td>100.txt</td>\n",
       "      <td>This is my Valentine's from 1 of my nephews. I...</td>\n",
       "      <td>positive</td>\n",
       "    </tr>\n",
       "    <tr>\n",
       "      <th>3</th>\n",
       "      <td>1000.txt</td>\n",
       "      <td>betterfeelingfilms: RT via Instagram: First da...</td>\n",
       "      <td>neutral</td>\n",
       "    </tr>\n",
       "    <tr>\n",
       "      <th>4</th>\n",
       "      <td>1001.txt</td>\n",
       "      <td>Zoe's first love #Rattled @JohnnyHarper15</td>\n",
       "      <td>positive</td>\n",
       "    </tr>\n",
       "  </tbody>\n",
       "</table>\n",
       "</div>"
      ],
      "text/plain": [
       "  File Name                                            Caption     LABEL\n",
       "0     1.txt      How I feel today #legday #jelly #aching #gym   negative\n",
       "1    10.txt  @ArrivaTW absolute disgrace two carriages from...  negative\n",
       "2   100.txt  This is my Valentine's from 1 of my nephews. I...  positive\n",
       "3  1000.txt  betterfeelingfilms: RT via Instagram: First da...   neutral\n",
       "4  1001.txt         Zoe's first love #Rattled @JohnnyHarper15   positive"
      ]
     },
     "execution_count": 2,
     "metadata": {},
     "output_type": "execute_result"
    }
   ],
   "source": [
    "\n",
    "# Load the Excel file into a DataFrame\n",
    "file_path = 'Data_For_Sentiment_Analysis.xlsx'\n",
    "df = pd.read_excel(file_path)\n",
    "\n",
    "# Show the first few rows of the DataFrame to understand its structure\n",
    "df.head()\n"
   ]
  },
  {
   "cell_type": "markdown",
   "metadata": {},
   "source": [
    "### The dataset contains three columns:\n",
    "<ol>\n",
    "<li>File Name: The name of the file that contains the text ,It is a identifier for the row.</li>\n",
    "<li>Caption: The text content, will be used for sentiment analysis.</li>\n",
    "<li>LABEL: The sentiment label, which could be either of  1 value \"positive,\" \"negative,\" or \"neutral.\"</li>\n",
    "</ol>"
   ]
  },
  {
   "cell_type": "code",
   "execution_count": 3,
   "metadata": {},
   "outputs": [
    {
     "data": {
      "text/plain": [
       "(4869, 3)"
      ]
     },
     "execution_count": 3,
     "metadata": {},
     "output_type": "execute_result"
    }
   ],
   "source": [
    "df.shape"
   ]
  },
  {
   "cell_type": "code",
   "execution_count": 4,
   "metadata": {},
   "outputs": [
    {
     "data": {
      "text/html": [
       "<div>\n",
       "<style scoped>\n",
       "    .dataframe tbody tr th:only-of-type {\n",
       "        vertical-align: middle;\n",
       "    }\n",
       "\n",
       "    .dataframe tbody tr th {\n",
       "        vertical-align: top;\n",
       "    }\n",
       "\n",
       "    .dataframe thead th {\n",
       "        text-align: right;\n",
       "    }\n",
       "</style>\n",
       "<table border=\"1\" class=\"dataframe\">\n",
       "  <thead>\n",
       "    <tr style=\"text-align: right;\">\n",
       "      <th></th>\n",
       "      <th>File Name</th>\n",
       "      <th>Caption</th>\n",
       "      <th>LABEL</th>\n",
       "    </tr>\n",
       "  </thead>\n",
       "  <tbody>\n",
       "    <tr>\n",
       "      <th>count</th>\n",
       "      <td>4869</td>\n",
       "      <td>4869</td>\n",
       "      <td>4869</td>\n",
       "    </tr>\n",
       "    <tr>\n",
       "      <th>unique</th>\n",
       "      <td>4869</td>\n",
       "      <td>4663</td>\n",
       "      <td>3</td>\n",
       "    </tr>\n",
       "    <tr>\n",
       "      <th>top</th>\n",
       "      <td>1.txt</td>\n",
       "      <td>#February #Winter #Rainy #Stormy #Windy #Tuesd...</td>\n",
       "      <td>neutral</td>\n",
       "    </tr>\n",
       "    <tr>\n",
       "      <th>freq</th>\n",
       "      <td>1</td>\n",
       "      <td>10</td>\n",
       "      <td>1771</td>\n",
       "    </tr>\n",
       "  </tbody>\n",
       "</table>\n",
       "</div>"
      ],
      "text/plain": [
       "       File Name                                            Caption    LABEL\n",
       "count       4869                                               4869     4869\n",
       "unique      4869                                               4663        3\n",
       "top        1.txt  #February #Winter #Rainy #Stormy #Windy #Tuesd...  neutral\n",
       "freq           1                                                 10     1771"
      ]
     },
     "execution_count": 4,
     "metadata": {},
     "output_type": "execute_result"
    }
   ],
   "source": [
    "df.describe() ## This displays the summary statistics of the data."
   ]
  },
  {
   "cell_type": "code",
   "execution_count": 5,
   "metadata": {},
   "outputs": [
    {
     "name": "stdout",
     "output_type": "stream",
     "text": [
      "<class 'pandas.core.frame.DataFrame'>\n",
      "RangeIndex: 4869 entries, 0 to 4868\n",
      "Data columns (total 3 columns):\n",
      " #   Column     Non-Null Count  Dtype \n",
      "---  ------     --------------  ----- \n",
      " 0   File Name  4869 non-null   object\n",
      " 1   Caption    4869 non-null   object\n",
      " 2   LABEL      4869 non-null   object\n",
      "dtypes: object(3)\n",
      "memory usage: 114.2+ KB\n"
     ]
    }
   ],
   "source": [
    "df.info() # There is no missing value.\n",
    "          # Data type of date,WeekStatus,Day_of_week,Load_type is String, \n",
    "          # NSM is integer type and rest columns are Numerical Variables."
   ]
  },
  {
   "cell_type": "code",
   "execution_count": 6,
   "metadata": {},
   "outputs": [
    {
     "name": "stdout",
     "output_type": "stream",
     "text": [
      "Missing values before data cleaning\n"
     ]
    },
    {
     "data": {
      "text/html": [
       "<div>\n",
       "<style scoped>\n",
       "    .dataframe tbody tr th:only-of-type {\n",
       "        vertical-align: middle;\n",
       "    }\n",
       "\n",
       "    .dataframe tbody tr th {\n",
       "        vertical-align: top;\n",
       "    }\n",
       "\n",
       "    .dataframe thead th {\n",
       "        text-align: right;\n",
       "    }\n",
       "</style>\n",
       "<table border=\"1\" class=\"dataframe\">\n",
       "  <thead>\n",
       "    <tr style=\"text-align: right;\">\n",
       "      <th></th>\n",
       "      <th>Column Name</th>\n",
       "      <th>Missing Values</th>\n",
       "      <th>Missing Values (%)</th>\n",
       "    </tr>\n",
       "  </thead>\n",
       "  <tbody>\n",
       "    <tr>\n",
       "      <th>0</th>\n",
       "      <td>File Name</td>\n",
       "      <td>0</td>\n",
       "      <td>0.0</td>\n",
       "    </tr>\n",
       "    <tr>\n",
       "      <th>1</th>\n",
       "      <td>Caption</td>\n",
       "      <td>0</td>\n",
       "      <td>0.0</td>\n",
       "    </tr>\n",
       "    <tr>\n",
       "      <th>2</th>\n",
       "      <td>LABEL</td>\n",
       "      <td>0</td>\n",
       "      <td>0.0</td>\n",
       "    </tr>\n",
       "  </tbody>\n",
       "</table>\n",
       "</div>"
      ],
      "text/plain": [
       "  Column Name  Missing Values  Missing Values (%)\n",
       "0   File Name               0                 0.0\n",
       "1     Caption               0                 0.0\n",
       "2       LABEL               0                 0.0"
      ]
     },
     "execution_count": 6,
     "metadata": {},
     "output_type": "execute_result"
    }
   ],
   "source": [
    "# Check for missing values in the DataFrame\n",
    "# missing_values = df.isnull().sum()\n",
    "# missing_values\n",
    "missing_val_df = pd.DataFrame().from_records([{'Column Name':col, \n",
    "                                               'Missing Values': len(df[df[col].isna()]), \n",
    "                                               'Missing Values (%)':np.round(len(df[df[col].isna()])/len(df), 4)*100}\n",
    "                                              for col in df.columns])\n",
    "print('Missing values before data cleaning')\n",
    "missing_val_df"
   ]
  },
  {
   "cell_type": "code",
   "execution_count": 7,
   "metadata": {},
   "outputs": [
    {
     "data": {
      "text/plain": [
       "neutral     1771\n",
       "positive    1646\n",
       "negative    1452\n",
       "Name: LABEL, dtype: int64"
      ]
     },
     "execution_count": 7,
     "metadata": {},
     "output_type": "execute_result"
    }
   ],
   "source": [
    "# Check the distribution of the sentiment labels\n",
    "label_distribution = df['LABEL'].value_counts()\n",
    "label_distribution"
   ]
  },
  {
   "cell_type": "markdown",
   "metadata": {},
   "source": [
    "As for the distribution of sentiment labels, we have:\n",
    "<table><tr>\n",
    "<th>Count</th>\n",
    "<th>Label</th>\n",
    "</tr></thead>\n",
    "<tr>\n",
    "<td>1771</td><td> Neutral</td>\n",
    "</tr>\n",
    "<tr>\n",
    "<td>1646</td><td> Positive</td>\n",
    "</tr>\n",
    "<tr>\n",
    "<td>1452</td><td> Negative</td>\n",
    "</tr>\n",
    "</table>\n",
    "The classes are relatively balanced, which is good for model training."
   ]
  },
  {
   "cell_type": "markdown",
   "metadata": {},
   "source": [
    "# 3. Data Preparation"
   ]
  },
  {
   "cell_type": "markdown",
   "metadata": {},
   "source": [
    "### To preprocess the text data , below steps to be done:\n",
    "<fieldset>\n",
    "<legend><b>Tokenization:</b></legend> \n",
    "<p>Tokenization is an essential pre-processing step,  It involves breaking down a large paragraph into sentences or words, usually known as \"tokens.\" These tokens can be individual words, phrases, or even whole sentences. Here are some reasons why tokenization is important:\n",
    "</p>\n",
    "<ol>\n",
    "<li>\n",
    "Simplifying Text Data \n",
    "</li>\n",
    "<li>Enabling Efficient Text Analysis</li>\n",
    "<li>Creating Vocabulary</li>\n",
    "<li>Text Vectorization</li>\n",
    "<li>Enabling Better Understanding of Context</li>\n",
    "<li>Resource Optimization</li>\n",
    "<li>Facilitating Further Text Processing</li>\n",
    "</ol>\n",
    "<p>\n",
    "In summary, tokenization simplifies text data and prepares it for numerical transformation, enabling efficient text analysis and facilitating more complex NLP tasks. </p>\n",
    "</li>\n",
    "\n",
    "</fieldset>"
   ]
  },
  {
   "cell_type": "code",
   "execution_count": 8,
   "metadata": {},
   "outputs": [],
   "source": [
    "# Initialize the tokenizer with a specific vocabulary size and out-of-vocabulary token\n",
    "vocab_size = 10000\n",
    "oov_token = \"<OOV>\"\n",
    "tokenizer = Tokenizer(num_words=vocab_size, oov_token=oov_token)\n",
    "# Fit the tokenizer on the text data\n",
    "tokenizer.fit_on_texts(df['Caption'])\n",
    "\n",
    "# Convert each text into a sequence of integers\n",
    "sequences = tokenizer.texts_to_sequences(df['Caption'])"
   ]
  },
  {
   "cell_type": "markdown",
   "metadata": {},
   "source": [
    "<fieldset><legend><b>Padding:</b></legend>\n",
    "\n",
    "<ol>\n",
    "<li>Uniform Input Shape :Make all sequences have the same length by padding shorter ones with zeros</li>\n",
    "<li>Batch Processing : To process multiple samples in a batch, it's essential that each sample has the same shape.</li>\n",
    "<li>Sequence Models</li>\n",
    "<li>Handling Edge Cases</li>\n",
    "<li>Easier Implementation</li>\n",
    "<li>Computational Efficiency</li>\n",
    "</ol>\n",
    "\n",
    "</fieldset>"
   ]
  },
  {
   "cell_type": "code",
   "execution_count": 9,
   "metadata": {},
   "outputs": [
    {
     "data": {
      "text/plain": [
       "(15,\n",
       " 100,\n",
       " array([  55,   16,  134,   62,   16, 2236,    6, 1755,   13,  116,   10,\n",
       "          30, 5437, 5438, 5439,    0,    0,    0,    0,    0,    0,    0,\n",
       "           0,    0,    0,    0,    0,    0,    0,    0,    0,    0,    0,\n",
       "           0,    0,    0,    0,    0,    0,    0,    0,    0,    0,    0,\n",
       "           0,    0,    0,    0,    0,    0,    0,    0,    0,    0,    0,\n",
       "           0,    0,    0,    0,    0,    0,    0,    0,    0,    0,    0,\n",
       "           0,    0,    0,    0,    0,    0,    0,    0,    0,    0,    0,\n",
       "           0,    0,    0,    0,    0,    0,    0,    0,    0,    0,    0,\n",
       "           0,    0,    0,    0,    0,    0,    0,    0,    0,    0,    0,\n",
       "           0]))"
      ]
     },
     "execution_count": 9,
     "metadata": {},
     "output_type": "execute_result"
    }
   ],
   "source": [
    "\n",
    "# Check the length of a random sequence before padding\n",
    "len_before_padding = len(sequences[42])\n",
    "\n",
    "# Pad sequences to make them of the same length\n",
    "padding_type = 'post'\n",
    "trunc_type = 'post'\n",
    "max_length = 100  # You can adjust this based on your specific needs\n",
    "padded_sequences = pad_sequences(sequences, padding=padding_type, truncating=trunc_type, maxlen=max_length)\n",
    "\n",
    "# Check the length of the same random sequence after padding\n",
    "len_after_padding = len(padded_sequences[42])\n",
    "len_before_padding, len_after_padding, padded_sequences[42]"
   ]
  },
  {
   "cell_type": "markdown",
   "metadata": {},
   "source": [
    "<fieldset><legend><b>Label Encoding:</b></legend>\n",
    "Label encoding is a technique used to convert categorical labels into a form that can be provided to machine learning algorithms as input. Many machine learning algorithms require numerical input and output variables, and label encoding is a way to enable this. \n",
    "<ol>\n",
    "<li><b>Numerical Representation : </b>\n",
    "Machine learning algorithms generally work with numerical values. Label encoding transforms non-numerical labels into numerical form, making it easier for algorithms to make sense of the data.</li>\n",
    "<li>\n",
    "<b> Simplification of Data :</b>\n",
    "In many cases, label encoding can simplify the data by converting complex string labels into integers. \n",
    "</li>\n",
    "<li><b> Consistency : </b>\n",
    "Using a label encoder ensures that the same string labels are converted to the same integers every time.\n",
    "</li>\n",
    "<li>\n",
    "<b> Memory Efficiency :</b>\n",
    "Label encoding is generally more memory-efficient than other encoding schemes like one-hot encoding, as it stores data in a single column of integers instead of multiple columns of binary values.\n",
    "</li>\n",
    "<li>\n",
    "<b>Ordinal Relationships : </b>\n",
    "In some cases, label encoding can capture ordinal relationships (i.e., order matters) between categories if the integer encoding is aligned with the rank ordering of the categories. H\n",
    "</li>\n",
    "</ol>\n",
    "</fieldset>"
   ]
  },
  {
   "cell_type": "code",
   "execution_count": 10,
   "metadata": {},
   "outputs": [
    {
     "data": {
      "text/plain": [
       "{'negative': 0, 'neutral': 1, 'positive': 2}"
      ]
     },
     "execution_count": 10,
     "metadata": {},
     "output_type": "execute_result"
    }
   ],
   "source": [
    "# Initialize Label Encoder\n",
    "label_encoder = LabelEncoder()\n",
    "# Fit and transform labels into numerical form\n",
    "numerical_labels = label_encoder.fit_transform(df['LABEL'])\n",
    "mapping = dict(zip(label_encoder.classes_, label_encoder.transform(label_encoder.classes_)))\n",
    "mapping"
   ]
  },
  {
   "cell_type": "markdown",
   "metadata": {},
   "source": [
    "### Split the data into training, validation, and test sets"
   ]
  },
  {
   "cell_type": "code",
   "execution_count": 11,
   "metadata": {},
   "outputs": [],
   "source": [
    "# Split the data into training, validation, and test sets\n",
    "X_train, X_temp, y_train, y_temp = train_test_split(padded_sequences, numerical_labels, test_size=0.3, random_state=42)\n",
    "X_val, X_test, y_val, y_test = train_test_split(X_temp, y_temp, test_size=0.5, random_state=42)\n"
   ]
  },
  {
   "cell_type": "markdown",
   "metadata": {},
   "source": [
    "## 4. Deep Neural Network Architecture"
   ]
  },
  {
   "cell_type": "markdown",
   "metadata": {},
   "source": [
    "## 4.1 Design the architecture that you will be using\n",
    "\n",
    "* Journal specify only the CNN Model , but for the purpose we will implement CNN , RNN , Transformer Model"
   ]
  },
  {
   "cell_type": "markdown",
   "metadata": {},
   "source": [
    "## 4.2 DNN Report\n",
    "\n",
    "Report the following and provide justification for the same.\n",
    "\n",
    "* Number of layers\n",
    "* Number of units in each layer\n",
    "* Total number of trainable parameters "
   ]
  },
  {
   "cell_type": "markdown",
   "metadata": {},
   "source": [
    "### CNN for Text Classification\n",
    "Convolutional Neural Networks (CNNs) are not just for image classification; they can also be used for text classification. \n",
    "\n",
    "Below is the sample article \n",
    "<a href=\"https://medium.com/voice-tech-podcast/text-classification-using-cnn-9ade8155dfb9\">CNN for Text Classification</a>"
   ]
  },
  {
   "cell_type": "code",
   "execution_count": 12,
   "metadata": {},
   "outputs": [
    {
     "name": "stdout",
     "output_type": "stream",
     "text": [
      "Epoch 1/10\n",
      "107/107 [==============================] - 11s 92ms/step - loss: 1.0309 - accuracy: 0.4718 - val_loss: 0.9101 - val_accuracy: 0.6123\n",
      "Epoch 2/10\n",
      "107/107 [==============================] - 13s 125ms/step - loss: 0.5173 - accuracy: 0.8143 - val_loss: 0.7460 - val_accuracy: 0.6863\n",
      "Epoch 3/10\n",
      "107/107 [==============================] - 11s 106ms/step - loss: 0.1242 - accuracy: 0.9671 - val_loss: 0.8237 - val_accuracy: 0.7137\n",
      "Epoch 4/10\n",
      "107/107 [==============================] - 16s 151ms/step - loss: 0.0299 - accuracy: 0.9950 - val_loss: 0.9375 - val_accuracy: 0.6808\n",
      "Epoch 5/10\n",
      "107/107 [==============================] - 10s 97ms/step - loss: 0.0100 - accuracy: 0.9985 - val_loss: 1.0484 - val_accuracy: 0.6767\n",
      "Epoch 6/10\n",
      "107/107 [==============================] - 15s 136ms/step - loss: 0.0077 - accuracy: 0.9988 - val_loss: 1.0819 - val_accuracy: 0.6781\n",
      "Epoch 7/10\n",
      "107/107 [==============================] - 14s 134ms/step - loss: 0.0062 - accuracy: 0.9991 - val_loss: 1.1146 - val_accuracy: 0.6795\n",
      "Epoch 8/10\n",
      "107/107 [==============================] - 15s 142ms/step - loss: 0.0041 - accuracy: 0.9994 - val_loss: 1.1414 - val_accuracy: 0.6849\n",
      "Epoch 9/10\n",
      "107/107 [==============================] - 10s 96ms/step - loss: 0.0053 - accuracy: 0.9991 - val_loss: 1.1578 - val_accuracy: 0.6795\n",
      "Epoch 10/10\n",
      "107/107 [==============================] - 17s 159ms/step - loss: 0.0044 - accuracy: 0.9994 - val_loss: 1.2203 - val_accuracy: 0.6808\n"
     ]
    }
   ],
   "source": [
    "# Initialize the CNN model\n",
    "cnn_model = Sequential([\n",
    "    Embedding(vocab_size, 128, input_length=max_length),\n",
    "    Conv1D(128, 5, activation='relu'),\n",
    "    GlobalMaxPooling1D(),\n",
    "    Dense(64, activation='relu'),\n",
    "    Dense(3, activation='softmax')\n",
    "])\n",
    "# Compile the model\n",
    "cnn_model.compile(loss='sparse_categorical_crossentropy', optimizer='adam', metrics=['accuracy'])\n",
    "# For example, to train the CNN model\n",
    "history_cnn=cnn_model.fit(X_train, y_train, epochs=10, validation_data=(X_val, y_val))"
   ]
  },
  {
   "cell_type": "markdown",
   "metadata": {},
   "source": [
    "* Number of layers\n",
    "* Number of units in each layer\n",
    "* Total number of trainable parameters "
   ]
  },
  {
   "cell_type": "code",
   "execution_count": 13,
   "metadata": {},
   "outputs": [
    {
     "name": "stdout",
     "output_type": "stream",
     "text": [
      "Model: \"sequential\"\n",
      "_________________________________________________________________\n",
      " Layer (type)                Output Shape              Param #   \n",
      "=================================================================\n",
      " embedding (Embedding)       (None, 100, 128)          1280000   \n",
      "                                                                 \n",
      " conv1d (Conv1D)             (None, 96, 128)           82048     \n",
      "                                                                 \n",
      " global_max_pooling1d (Globa  (None, 128)              0         \n",
      " lMaxPooling1D)                                                  \n",
      "                                                                 \n",
      " dense (Dense)               (None, 64)                8256      \n",
      "                                                                 \n",
      " dense_1 (Dense)             (None, 3)                 195       \n",
      "                                                                 \n",
      "=================================================================\n",
      "Total params: 1,370,499\n",
      "Trainable params: 1,370,499\n",
      "Non-trainable params: 0\n",
      "_________________________________________________________________\n",
      "No of Layers :5\n",
      "conv1d: 128 filters\n",
      "dense: 64 units\n",
      "dense_1: 3 units\n"
     ]
    }
   ],
   "source": [
    "cnn_model.summary()\n",
    "print (\"No of Layers :\" + str(len(cnn_model.layers)))\n",
    "# Loop through each layer in the cnn model\n",
    "for layer in cnn_model.layers:\n",
    "    # Check if the layer has a 'units' attribute\n",
    "    if hasattr(layer, 'units'):\n",
    "        print(f\"{layer.name}: {layer.units} units\")\n",
    "        # Check if the layer has a 'filters' attribute (for Conv layers)\n",
    "    if hasattr(layer, 'filters'):\n",
    "        print(f\"{layer.name}: {layer.filters} filters\")\n"
   ]
  },
  {
   "cell_type": "markdown",
   "metadata": {},
   "source": [
    "### RNN for Text Classification\n",
    "Recurrent Neural Networks (RNNs), specifically LSTMs or GRUs, are commonly used for text classification."
   ]
  },
  {
   "cell_type": "code",
   "execution_count": 14,
   "metadata": {},
   "outputs": [
    {
     "name": "stdout",
     "output_type": "stream",
     "text": [
      "Epoch 1/10\n",
      "107/107 [==============================] - 38s 324ms/step - loss: 1.0978 - accuracy: 0.3556 - val_loss: 1.0970 - val_accuracy: 0.3384\n",
      "Epoch 2/10\n",
      "107/107 [==============================] - 43s 403ms/step - loss: 1.0978 - accuracy: 0.3371 - val_loss: 1.0965 - val_accuracy: 0.3575\n",
      "Epoch 3/10\n",
      "107/107 [==============================] - 44s 408ms/step - loss: 1.0967 - accuracy: 0.3597 - val_loss: 1.0966 - val_accuracy: 0.3575\n",
      "Epoch 4/10\n",
      "107/107 [==============================] - 43s 399ms/step - loss: 1.0964 - accuracy: 0.3556 - val_loss: 1.0970 - val_accuracy: 0.3575\n",
      "Epoch 5/10\n",
      "107/107 [==============================] - 36s 335ms/step - loss: 1.0966 - accuracy: 0.3548 - val_loss: 1.0966 - val_accuracy: 0.3575\n",
      "Epoch 6/10\n",
      "107/107 [==============================] - 34s 320ms/step - loss: 1.0965 - accuracy: 0.3597 - val_loss: 1.0968 - val_accuracy: 0.3575\n",
      "Epoch 7/10\n",
      "107/107 [==============================] - 28s 266ms/step - loss: 1.0967 - accuracy: 0.3597 - val_loss: 1.0965 - val_accuracy: 0.3575\n",
      "Epoch 8/10\n",
      "107/107 [==============================] - 30s 280ms/step - loss: 1.0961 - accuracy: 0.3597 - val_loss: 1.0965 - val_accuracy: 0.3575\n",
      "Epoch 9/10\n",
      "107/107 [==============================] - 32s 303ms/step - loss: 1.0961 - accuracy: 0.3597 - val_loss: 1.0964 - val_accuracy: 0.3575\n",
      "Epoch 10/10\n",
      "107/107 [==============================] - 31s 292ms/step - loss: 1.0962 - accuracy: 0.3597 - val_loss: 1.0964 - val_accuracy: 0.3575\n"
     ]
    }
   ],
   "source": [
    "\n",
    "# Initialize the RNN model\n",
    "rnn_model = Sequential([\n",
    "    Embedding(vocab_size, 128, input_length=max_length),\n",
    "    LSTM(128),\n",
    "    Dense(64, activation='relu'),\n",
    "    Dense(3, activation='softmax')\n",
    "])\n",
    "\n",
    "# Compile the model\n",
    "rnn_model.compile(loss='sparse_categorical_crossentropy', optimizer='adam', metrics=['accuracy'])\n",
    "history_rnn= rnn_model.fit(X_train, y_train, epochs=10, validation_data=(X_val, y_val))"
   ]
  },
  {
   "cell_type": "markdown",
   "metadata": {},
   "source": [
    "* Number of layers\n",
    "* Number of units in each layer\n",
    "* Total number of trainable parameters "
   ]
  },
  {
   "cell_type": "code",
   "execution_count": 15,
   "metadata": {},
   "outputs": [
    {
     "name": "stdout",
     "output_type": "stream",
     "text": [
      "Model: \"sequential_1\"\n",
      "_________________________________________________________________\n",
      " Layer (type)                Output Shape              Param #   \n",
      "=================================================================\n",
      " embedding_1 (Embedding)     (None, 100, 128)          1280000   \n",
      "                                                                 \n",
      " lstm (LSTM)                 (None, 128)               131584    \n",
      "                                                                 \n",
      " dense_2 (Dense)             (None, 64)                8256      \n",
      "                                                                 \n",
      " dense_3 (Dense)             (None, 3)                 195       \n",
      "                                                                 \n",
      "=================================================================\n",
      "Total params: 1,420,035\n",
      "Trainable params: 1,420,035\n",
      "Non-trainable params: 0\n",
      "_________________________________________________________________\n",
      "No of Layers :4\n",
      "lstm: 128 units\n",
      "dense_2: 64 units\n",
      "dense_3: 3 units\n"
     ]
    }
   ],
   "source": [
    "rnn_model.summary()\n",
    "print (\"No of Layers :\" + str(len(rnn_model.layers)))\n",
    "# Loop through each layer in the cnn model\n",
    "for layer in rnn_model.layers:\n",
    "    # Check if the layer has a 'units' attribute\n",
    "    if hasattr(layer, 'units'):\n",
    "        print(f\"{layer.name}: {layer.units} units\")\n",
    "        # Check if the layer has a 'filters' attribute (for Conv layers)\n",
    "    if hasattr(layer, 'filters'):\n",
    "        print(f\"{layer.name}: {layer.filters} filters\")\n"
   ]
  },
  {
   "cell_type": "markdown",
   "metadata": {},
   "source": [
    "### Transformer for Text Classification\n",
    "The Transformer architecture has become the standard for many NLP tasks. We could use the Hugging Face Transformers library to use a pre-trained Transformer model, or build a simpler one from scratch.\n",
    "\n",
    "we train the below model for 10 epochs using a batch size of 32. The validation_data parameter allows us to specify a validation set that the model will be evaluated against after each epoch."
   ]
  },
  {
   "cell_type": "code",
   "execution_count": 16,
   "metadata": {},
   "outputs": [
    {
     "name": "stdout",
     "output_type": "stream",
     "text": [
      "Epoch 1/10\n",
      "107/107 [==============================] - 42s 381ms/step - loss: 1.0974 - accuracy: 0.3430 - val_loss: 1.0949 - val_accuracy: 0.3384\n",
      "Epoch 2/10\n",
      "107/107 [==============================] - 45s 422ms/step - loss: 1.0114 - accuracy: 0.4771 - val_loss: 0.7980 - val_accuracy: 0.6466\n",
      "Epoch 3/10\n",
      "107/107 [==============================] - 44s 415ms/step - loss: 0.5247 - accuracy: 0.7905 - val_loss: 0.7465 - val_accuracy: 0.7000\n",
      "Epoch 4/10\n",
      "107/107 [==============================] - 43s 398ms/step - loss: 0.2215 - accuracy: 0.9214 - val_loss: 0.9474 - val_accuracy: 0.6836\n",
      "Epoch 5/10\n",
      "107/107 [==============================] - 43s 400ms/step - loss: 0.1102 - accuracy: 0.9630 - val_loss: 1.0185 - val_accuracy: 0.6986\n",
      "Epoch 6/10\n",
      "107/107 [==============================] - 41s 388ms/step - loss: 0.0480 - accuracy: 0.9862 - val_loss: 1.2442 - val_accuracy: 0.6986\n",
      "Epoch 7/10\n",
      "107/107 [==============================] - 44s 410ms/step - loss: 0.0265 - accuracy: 0.9918 - val_loss: 1.6710 - val_accuracy: 0.6918\n",
      "Epoch 8/10\n",
      "107/107 [==============================] - 43s 398ms/step - loss: 0.0163 - accuracy: 0.9950 - val_loss: 1.8393 - val_accuracy: 0.6822\n",
      "Epoch 9/10\n",
      "107/107 [==============================] - 43s 402ms/step - loss: 0.0083 - accuracy: 0.9979 - val_loss: 2.1491 - val_accuracy: 0.6945\n",
      "Epoch 10/10\n",
      "107/107 [==============================] - 41s 385ms/step - loss: 0.0118 - accuracy: 0.9968 - val_loss: 2.4619 - val_accuracy: 0.6712\n"
     ]
    }
   ],
   "source": [
    "# Define the input layer\n",
    "input_layer = Input(shape=(max_length,))\n",
    "\n",
    "# Embedding layer\n",
    "embedding_layer = Embedding(vocab_size, 128)(input_layer)\n",
    "\n",
    "# Multi-head self-attention layer\n",
    "attention = MultiHeadAttention(num_heads=4, key_dim=128)(embedding_layer, embedding_layer, embedding_layer)\n",
    "\n",
    "# Pooling layer to reduce sequence length\n",
    "pooled_attention = GlobalAveragePooling1D()(attention)\n",
    "\n",
    "# Fully-connected layer\n",
    "dense_layer = Dense(64, activation='relu')(pooled_attention)\n",
    "\n",
    "# Output layer\n",
    "output_layer = Dense(3, activation='softmax')(dense_layer)\n",
    "\n",
    "# Create the model\n",
    "transformer_model = Model(inputs=input_layer, outputs=output_layer)\n",
    "\n",
    "# Compile the model\n",
    "transformer_model.compile(loss='sparse_categorical_crossentropy', optimizer='adam', metrics=['accuracy'])\n",
    "history_transformer=transformer_model.fit(X_train, y_train, epochs=10, validation_data=(X_val, y_val))"
   ]
  },
  {
   "cell_type": "markdown",
   "metadata": {},
   "source": [
    "* Number of layers\n",
    "* Number of units in each layer\n",
    "* Total number of trainable parameters "
   ]
  },
  {
   "cell_type": "code",
   "execution_count": 19,
   "metadata": {},
   "outputs": [
    {
     "name": "stdout",
     "output_type": "stream",
     "text": [
      "Model: \"model\"\n",
      "__________________________________________________________________________________________________\n",
      " Layer (type)                   Output Shape         Param #     Connected to                     \n",
      "==================================================================================================\n",
      " input_1 (InputLayer)           [(None, 100)]        0           []                               \n",
      "                                                                                                  \n",
      " embedding_2 (Embedding)        (None, 100, 128)     1280000     ['input_1[0][0]']                \n",
      "                                                                                                  \n",
      " multi_head_attention (MultiHea  (None, 100, 128)    263808      ['embedding_2[0][0]',            \n",
      " dAttention)                                                      'embedding_2[0][0]',            \n",
      "                                                                  'embedding_2[0][0]']            \n",
      "                                                                                                  \n",
      " global_average_pooling1d (Glob  (None, 128)         0           ['multi_head_attention[0][0]']   \n",
      " alAveragePooling1D)                                                                              \n",
      "                                                                                                  \n",
      " dense_4 (Dense)                (None, 64)           8256        ['global_average_pooling1d[0][0]'\n",
      "                                                                 ]                                \n",
      "                                                                                                  \n",
      " dense_5 (Dense)                (None, 3)            195         ['dense_4[0][0]']                \n",
      "                                                                                                  \n",
      "==================================================================================================\n",
      "Total params: 1,552,259\n",
      "Trainable params: 1,552,259\n",
      "Non-trainable params: 0\n",
      "__________________________________________________________________________________________________\n",
      "No of Layers :6\n",
      "dense_4: 64 units\n",
      "dense_5: 3 units\n"
     ]
    }
   ],
   "source": [
    "transformer_model.summary()\n",
    "print (\"No of Layers :\" + str(len(transformer_model.layers)))\n",
    "# Loop through each layer in the cnn model\n",
    "for layer in transformer_model.layers:\n",
    "    # Check if the layer has a 'units' attribute\n",
    "    if hasattr(layer, 'units'):\n",
    "        print(f\"{layer.name}: {layer.units} units\")\n",
    "        # Check if the layer has a 'filters' attribute (for Conv layers)\n",
    "    if hasattr(layer, 'filters'):\n",
    "        print(f\"{layer.name}: {layer.filters} filters\")\n"
   ]
  },
  {
   "cell_type": "markdown",
   "metadata": {},
   "source": [
    "# 5. Training the model "
   ]
  },
  {
   "cell_type": "code",
   "execution_count": null,
   "metadata": {},
   "outputs": [],
   "source": [
    "history_cnn=cnn_model.fit(X_train, y_train, epochs=10, validation_data=(X_val, y_val))\n",
    "history_rnn= rnn_model.fit(X_train, y_train, epochs=10, validation_data=(X_val, y_val))\n",
    "history_transformer=transformer_model.fit(X_train, y_train, epochs=10, validation_data=(X_val, y_val))"
   ]
  },
  {
   "cell_type": "markdown",
   "metadata": {},
   "source": [
    "# 6. Test the model"
   ]
  },
  {
   "cell_type": "code",
   "execution_count": 17,
   "metadata": {},
   "outputs": [
    {
     "name": "stdout",
     "output_type": "stream",
     "text": [
      "  1/153 [..............................] - ETA: 4s - loss: 0.1087 - accuracy: 0.9688"
     ]
    },
    {
     "name": "stdout",
     "output_type": "stream",
     "text": [
      "153/153 [==============================] - 1s 10ms/step - loss: 0.3465 - accuracy: 0.9096\n",
      "Test accuracy using CNN model: 90.96%\n",
      "153/153 [==============================] - 13s 83ms/step - loss: 1.0955 - accuracy: 0.3637\n",
      "Test accuracy using RNN model: 36.37%\n",
      "153/153 [==============================] - 22s 143ms/step - loss: 0.7143 - accuracy: 0.9041\n",
      "Test accuracy using Transformer model: 90.41%\n"
     ]
    }
   ],
   "source": [
    "test_loss, test_accuracy = cnn_model.evaluate(padded_sequences, numerical_labels)\n",
    "print(f\"Test accuracy using CNN model: {test_accuracy * 100:.2f}%\")\n",
    "\n",
    "test_loss, test_accuracy = rnn_model.evaluate(padded_sequences, numerical_labels)\n",
    "print(f\"Test accuracy using RNN model: {test_accuracy * 100:.2f}%\")\n",
    "\n",
    "test_loss, test_accuracy = transformer_model.evaluate(padded_sequences, numerical_labels)\n",
    "print(f\"Test accuracy using Transformer model: {test_accuracy * 100:.2f}%\")\n",
    "\n"
   ]
  },
  {
   "cell_type": "markdown",
   "metadata": {},
   "source": [
    "# 7. Report the result\n",
    "\n",
    "1. Plot the training and validation accuracy history.\n",
    "2. Plot the training and validation loss history. \n",
    "3. Report the testing accuracy and loss.\n",
    "4. Show Confusion Matrix for testing dataset.\n",
    "5. Report values for preformance study metrics like accuracy, precision, recall, F1 Score."
   ]
  },
  {
   "cell_type": "markdown",
   "metadata": {},
   "source": [
    "<fieldset>\n",
    "<legend>Monitoring Metrics</legend>\n",
    "While training, it's essential to monitor several key metrics to understand how well the model is performing. These usually include:\n",
    "<ol>\n",
    "<li><b>Loss:</b> \n",
    "Measures how well the model is doing, with lower values being better.\n",
    "</li>\n",
    "<li>\n",
    "<b>Accuracy:</b> \n",
    "The proportion of correctly classified samples.\n",
    "</li>\n",
    "</ol>\n",
    "</fieldset>\n",
    "<fieldset>\n",
    "<legend>Evaluation Metrics and Testing</legend>\n",
    "After training, We want to evaluate the model's performance on a separate test set that it has never seen before. Common metrics for classification problems like this include:\n",
    "<ol>\n",
    "<li><b>Accuracy:</b> \n",
    "The percentage of correctly classified samples.\n",
    "</li>\n",
    "<li><b>Precision, Recall, F1-Score: </b>\n",
    "These metrics provide a more comprehensive view of how well your model is performing, especially if the classes are imbalanced.\n",
    "</li>\n",
    "</ol>\n",
    "</fieldset>"
   ]
  },
  {
   "cell_type": "markdown",
   "metadata": {},
   "source": [
    "#### CNN Model - Loss , Accuracy , classification Report"
   ]
  },
  {
   "cell_type": "code",
   "execution_count": 20,
   "metadata": {},
   "outputs": [
    {
     "name": "stdout",
     "output_type": "stream",
     "text": [
      "10/23 [============>.................] - ETA: 0s - loss: 1.0447 - accuracy: 0.7188"
     ]
    },
    {
     "name": "stdout",
     "output_type": "stream",
     "text": [
      "23/23 [==============================] - 0s 6ms/step - loss: 1.0752 - accuracy: 0.7196\n",
      "23/23 [==============================] - 0s 6ms/step\n",
      "Classification Report\n",
      "              precision    recall  f1-score   support\n",
      "\n",
      "     neutral       0.74      0.64      0.69       207\n",
      "    positive       0.71      0.67      0.69       284\n",
      "    negative       0.72      0.85      0.78       240\n",
      "\n",
      "    accuracy                           0.72       731\n",
      "   macro avg       0.72      0.72      0.72       731\n",
      "weighted avg       0.72      0.72      0.72       731\n",
      "\n"
     ]
    }
   ],
   "source": [
    "# Evaluate the model on the test set\n",
    "loss, accuracy = cnn_model.evaluate(X_test, y_test)\n",
    "# Optionally, you can use scikit-learn to calculate more detailed metrics\n",
    "# Get the model predictions\n",
    "y_pred_cnn = np.argmax(cnn_model.predict(X_test), axis=-1)\n",
    "# Calculate classification report\n",
    "report_cnn = classification_report(y_test, y_pred_cnn, target_names=['neutral', 'positive', 'negative'])\n",
    "print(\"Classification Report\")\n",
    "print(report_cnn )"
   ]
  },
  {
   "cell_type": "markdown",
   "metadata": {},
   "source": [
    "#### RNN Model - Loss , Accuracy , classification Report"
   ]
  },
  {
   "cell_type": "code",
   "execution_count": 21,
   "metadata": {},
   "outputs": [
    {
     "name": "stdout",
     "output_type": "stream",
     "text": [
      "23/23 [==============================] - 1s 33ms/step - loss: 1.0927 - accuracy: 0.3885\n",
      "23/23 [==============================] - 2s 60ms/step\n",
      "Classification Report\n",
      "              precision    recall  f1-score   support\n",
      "\n",
      "     neutral       0.00      0.00      0.00       207\n",
      "    positive       0.39      1.00      0.56       284\n",
      "    negative       0.00      0.00      0.00       240\n",
      "\n",
      "    accuracy                           0.39       731\n",
      "   macro avg       0.13      0.33      0.19       731\n",
      "weighted avg       0.15      0.39      0.22       731\n",
      "\n"
     ]
    },
    {
     "name": "stderr",
     "output_type": "stream",
     "text": [
      "c:\\ProgramData\\Anaconda3\\lib\\site-packages\\sklearn\\metrics\\_classification.py:1318: UndefinedMetricWarning: Precision and F-score are ill-defined and being set to 0.0 in labels with no predicted samples. Use `zero_division` parameter to control this behavior.\n",
      "  _warn_prf(average, modifier, msg_start, len(result))\n",
      "c:\\ProgramData\\Anaconda3\\lib\\site-packages\\sklearn\\metrics\\_classification.py:1318: UndefinedMetricWarning: Precision and F-score are ill-defined and being set to 0.0 in labels with no predicted samples. Use `zero_division` parameter to control this behavior.\n",
      "  _warn_prf(average, modifier, msg_start, len(result))\n",
      "c:\\ProgramData\\Anaconda3\\lib\\site-packages\\sklearn\\metrics\\_classification.py:1318: UndefinedMetricWarning: Precision and F-score are ill-defined and being set to 0.0 in labels with no predicted samples. Use `zero_division` parameter to control this behavior.\n",
      "  _warn_prf(average, modifier, msg_start, len(result))\n"
     ]
    }
   ],
   "source": [
    "# Evaluate the model on the test set\n",
    "loss, accuracy = rnn_model.evaluate(X_test, y_test)\n",
    "# Optionally, you can use scikit-learn to calculate more detailed metrics\n",
    "# Get the model predictions\n",
    "y_pred_rnn = np.argmax(rnn_model.predict(X_test), axis=-1)\n",
    "# Calculate classification report\n",
    "report_rnn = classification_report(y_test, y_pred_rnn, target_names=['neutral', 'positive', 'negative'])\n",
    "print(\"Classification Report\")\n",
    "print(report_rnn )"
   ]
  },
  {
   "cell_type": "markdown",
   "metadata": {},
   "source": [
    "#### Transformer Model - Loss , Accuracy , classification Report"
   ]
  },
  {
   "cell_type": "code",
   "execution_count": 23,
   "metadata": {},
   "outputs": [
    {
     "name": "stdout",
     "output_type": "stream",
     "text": [
      " 1/23 [>.............................] - ETA: 1s - loss: 1.4946 - accuracy: 0.8125"
     ]
    },
    {
     "name": "stdout",
     "output_type": "stream",
     "text": [
      "23/23 [==============================] - 2s 66ms/step - loss: 2.2658 - accuracy: 0.6977\n",
      "23/23 [==============================] - 3s 146ms/step\n",
      "Classification Report\n",
      "              precision    recall  f1-score   support\n",
      "\n",
      "     neutral       0.72      0.58      0.64       207\n",
      "    positive       0.63      0.76      0.69       284\n",
      "    negative       0.80      0.72      0.76       240\n",
      "\n",
      "    accuracy                           0.70       731\n",
      "   macro avg       0.71      0.69      0.70       731\n",
      "weighted avg       0.71      0.70      0.70       731\n",
      "\n"
     ]
    }
   ],
   "source": [
    "# Evaluate the model on the test set\n",
    "loss, accuracy = transformer_model.evaluate(X_test, y_test)\n",
    "# Optionally, you can use scikit-learn to calculate more detailed metrics\n",
    "# Get the model predictions\n",
    "y_pred_transformer = np.argmax(transformer_model.predict(X_test), axis=-1)\n",
    "# Calculate classification report\n",
    "report_transformer = classification_report(y_test, y_pred_transformer, target_names=['neutral', 'positive', 'negative'])\n",
    "print(\"Classification Report\")\n",
    "print(report_transformer )"
   ]
  },
  {
   "cell_type": "markdown",
   "metadata": {},
   "source": [
    "#### Training and Validation Loss/Accuracy Curves (CNN)\n",
    "Plotting the training and validation loss and accuracy over each epoch can help you understand how well the model is learning. If the validation loss starts increasing while the training loss is decreasing, it's a sign of overfitting."
   ]
  },
  {
   "cell_type": "code",
   "execution_count": 24,
   "metadata": {},
   "outputs": [
    {
     "data": {
      "image/png": "[encoded data removed]",
      "text/plain": [
       "<Figure size 432x288 with 1 Axes>"
      ]
     },
     "metadata": {
      "needs_background": "light"
     },
     "output_type": "display_data"
    },
    {
     "data": {
      "image/png": "[encoded data removed]",
      "text/plain": [
       "<Figure size 432x288 with 1 Axes>"
      ]
     },
     "metadata": {
      "needs_background": "light"
     },
     "output_type": "display_data"
    }
   ],
   "source": [
    "# Plot training & validation accuracy values\n",
    "plt.plot(history_cnn.history['accuracy'])\n",
    "plt.plot(history_cnn.history['val_accuracy'])\n",
    "plt.title('Model accuracy')\n",
    "plt.ylabel('Accuracy')\n",
    "plt.xlabel('Epoch')\n",
    "plt.legend(['Train', 'Validation'], loc='upper left')\n",
    "plt.show()\n",
    "\n",
    "# Plot training & validation loss values\n",
    "plt.plot(history_cnn.history['loss'])\n",
    "plt.plot(history_cnn.history['val_loss'])\n",
    "plt.title('Model loss')\n",
    "plt.ylabel('Loss')\n",
    "plt.xlabel('Epoch')\n",
    "plt.legend(['Train', 'Validation'], loc='upper left')\n",
    "plt.show()\n"
   ]
  },
  {
   "cell_type": "markdown",
   "metadata": {},
   "source": [
    "#### Training and Validation Loss/Accuracy Curves (RNN)\n",
    "Plotting the training and validation loss and accuracy over each epoch can help you understand how well the model is learning. If the validation loss starts increasing while the training loss is decreasing, it's a sign of overfitting."
   ]
  },
  {
   "cell_type": "code",
   "execution_count": 25,
   "metadata": {},
   "outputs": [
    {
     "data": {
      "image/png": "[encoded data removed]",
      "text/plain": [
       "<Figure size 432x288 with 1 Axes>"
      ]
     },
     "metadata": {
      "needs_background": "light"
     },
     "output_type": "display_data"
    },
    {
     "data": {
      "image/png": "[encoded data removed]",
      "text/plain": [
       "<Figure size 432x288 with 1 Axes>"
      ]
     },
     "metadata": {
      "needs_background": "light"
     },
     "output_type": "display_data"
    }
   ],
   "source": [
    "# Plot training & validation accuracy values\n",
    "plt.plot(history_rnn.history['accuracy'])\n",
    "plt.plot(history_rnn.history['val_accuracy'])\n",
    "plt.title('Model accuracy')\n",
    "plt.ylabel('Accuracy')\n",
    "plt.xlabel('Epoch')\n",
    "plt.legend(['Train', 'Validation'], loc='upper left')\n",
    "plt.show()\n",
    "\n",
    "# Plot training & validation loss values\n",
    "plt.plot(history_rnn.history['loss'])\n",
    "plt.plot(history_rnn.history['val_loss'])\n",
    "plt.title('Model loss')\n",
    "plt.ylabel('Loss')\n",
    "plt.xlabel('Epoch')\n",
    "plt.legend(['Train', 'Validation'], loc='upper left')\n",
    "plt.show()\n"
   ]
  },
  {
   "cell_type": "markdown",
   "metadata": {},
   "source": [
    "#### Training and Validation Loss/Accuracy Curves (TRANSFORMER)\n",
    "Plotting the training and validation loss and accuracy over each epoch can help you understand how well the model is learning. If the validation loss starts increasing while the training loss is decreasing, it's a sign of overfitting."
   ]
  },
  {
   "cell_type": "code",
   "execution_count": 26,
   "metadata": {},
   "outputs": [
    {
     "data": {
      "image/png": "[encoded data removed]",
      "text/plain": [
       "<Figure size 432x288 with 1 Axes>"
      ]
     },
     "metadata": {
      "needs_background": "light"
     },
     "output_type": "display_data"
    },
    {
     "data": {
      "image/png": "[encoded data removed]",
      "text/plain": [
       "<Figure size 432x288 with 1 Axes>"
      ]
     },
     "metadata": {
      "needs_background": "light"
     },
     "output_type": "display_data"
    }
   ],
   "source": [
    "# Plot training & validation accuracy values\n",
    "plt.plot(history_transformer.history['accuracy'])\n",
    "plt.plot(history_transformer.history['val_accuracy'])\n",
    "plt.title('Model accuracy')\n",
    "plt.ylabel('Accuracy')\n",
    "plt.xlabel('Epoch')\n",
    "plt.legend(['Train', 'Validation'], loc='upper left')\n",
    "plt.show()\n",
    "\n",
    "# Plot training & validation loss values\n",
    "plt.plot(history_transformer.history['loss'])\n",
    "plt.plot(history_transformer.history['val_loss'])\n",
    "plt.title('Model loss')\n",
    "plt.ylabel('Loss')\n",
    "plt.xlabel('Epoch')\n",
    "plt.legend(['Train', 'Validation'], loc='upper left')\n",
    "plt.show()\n"
   ]
  },
  {
   "cell_type": "markdown",
   "metadata": {},
   "source": [
    "### Confusion Matrix (CNN)\n",
    "A confusion matrix gives a detailed breakdown of how the model's predictions compare to the actual labels. It's especially useful for multi-class classification problems."
   ]
  },
  {
   "cell_type": "code",
   "execution_count": 27,
   "metadata": {},
   "outputs": [
    {
     "data": {
      "image/png": "[encoded data removed]",
      "text/plain": [
       "<Figure size 432x288 with 2 Axes>"
      ]
     },
     "metadata": {
      "needs_background": "light"
     },
     "output_type": "display_data"
    }
   ],
   "source": [
    "# Calculate the confusion matrix\n",
    "conf_matrix = confusion_matrix(y_test, y_pred_cnn)\n",
    "# Plot the confusion matrix\n",
    "sns.heatmap(conf_matrix, annot=True, fmt='d', cmap='Blues')\n",
    "plt.ylabel('Actual')\n",
    "plt.xlabel('Predicted')\n",
    "plt.show()"
   ]
  },
  {
   "cell_type": "markdown",
   "metadata": {},
   "source": [
    "### Confusion Matrix (RNN)\n",
    "A confusion matrix gives a detailed breakdown of how the model's predictions compare to the actual labels. It's especially useful for multi-class classification problems."
   ]
  },
  {
   "cell_type": "code",
   "execution_count": 28,
   "metadata": {},
   "outputs": [
    {
     "data": {
      "image/png": "[encoded data removed]",
      "text/plain": [
       "<Figure size 432x288 with 2 Axes>"
      ]
     },
     "metadata": {
      "needs_background": "light"
     },
     "output_type": "display_data"
    }
   ],
   "source": [
    "# Calculate the confusion matrix\n",
    "conf_matrix = confusion_matrix(y_test, y_pred_rnn)\n",
    "# Plot the confusion matrix\n",
    "sns.heatmap(conf_matrix, annot=True, fmt='d', cmap='Blues')\n",
    "plt.ylabel('Actual')\n",
    "plt.xlabel('Predicted')\n",
    "plt.show()"
   ]
  },
  {
   "cell_type": "markdown",
   "metadata": {},
   "source": [
    "### Confusion Matrix (Transformer)\n",
    "A confusion matrix gives a detailed breakdown of how the model's predictions compare to the actual labels. It's especially useful for multi-class classification problems."
   ]
  },
  {
   "cell_type": "code",
   "execution_count": 29,
   "metadata": {},
   "outputs": [
    {
     "data": {
      "image/png": "[encoded data removed]",
      "text/plain": [
       "<Figure size 432x288 with 2 Axes>"
      ]
     },
     "metadata": {
      "needs_background": "light"
     },
     "output_type": "display_data"
    }
   ],
   "source": [
    "# Calculate the confusion matrix\n",
    "conf_matrix = confusion_matrix(y_test, y_pred_transformer)\n",
    "# Plot the confusion matrix\n",
    "sns.heatmap(conf_matrix, annot=True, fmt='d', cmap='Blues')\n",
    "plt.ylabel('Actual')\n",
    "plt.xlabel('Predicted')\n",
    "plt.show()"
   ]
  },
  {
   "cell_type": "markdown",
   "metadata": {},
   "source": [
    "#### Classification Report Chart (CNN)\n",
    "While the classification report is often shown in a tabular format"
   ]
  },
  {
   "cell_type": "code",
   "execution_count": 30,
   "metadata": {},
   "outputs": [
    {
     "data": {
      "image/png": "[encoded data removed]",
      "text/plain": [
       "<Figure size 432x288 with 1 Axes>"
      ]
     },
     "metadata": {
      "needs_background": "light"
     },
     "output_type": "display_data"
    }
   ],
   "source": [
    "# Generate classification report\n",
    "report = classification_report(y_test, y_pred_cnn, output_dict=True)\n",
    "# Convert to DataFrame for easier visualization\n",
    "report_df = pd.DataFrame(report).transpose()\n",
    "# Plot as a bar chart\n",
    "report_df[['precision','recall','f1-score']].drop(['accuracy','macro avg','weighted avg']).plot(kind='bar')\n",
    "plt.title('CNN Classification Report')\n",
    "plt.show()"
   ]
  },
  {
   "cell_type": "markdown",
   "metadata": {},
   "source": [
    "#### Classification Report Chart (RNN)\n",
    "While the classification report is often shown in a tabular format"
   ]
  },
  {
   "cell_type": "code",
   "execution_count": 31,
   "metadata": {},
   "outputs": [
    {
     "name": "stderr",
     "output_type": "stream",
     "text": [
      "c:\\ProgramData\\Anaconda3\\lib\\site-packages\\sklearn\\metrics\\_classification.py:1318: UndefinedMetricWarning: Precision and F-score are ill-defined and being set to 0.0 in labels with no predicted samples. Use `zero_division` parameter to control this behavior.\n",
      "  _warn_prf(average, modifier, msg_start, len(result))\n",
      "c:\\ProgramData\\Anaconda3\\lib\\site-packages\\sklearn\\metrics\\_classification.py:1318: UndefinedMetricWarning: Precision and F-score are ill-defined and being set to 0.0 in labels with no predicted samples. Use `zero_division` parameter to control this behavior.\n",
      "  _warn_prf(average, modifier, msg_start, len(result))\n",
      "c:\\ProgramData\\Anaconda3\\lib\\site-packages\\sklearn\\metrics\\_classification.py:1318: UndefinedMetricWarning: Precision and F-score are ill-defined and being set to 0.0 in labels with no predicted samples. Use `zero_division` parameter to control this behavior.\n",
      "  _warn_prf(average, modifier, msg_start, len(result))\n"
     ]
    },
    {
     "data": {
      "image/png": "[encoded data removed]",
      "text/plain": [
       "<Figure size 432x288 with 1 Axes>"
      ]
     },
     "metadata": {
      "needs_background": "light"
     },
     "output_type": "display_data"
    }
   ],
   "source": [
    "# Generate classification report\n",
    "report = classification_report(y_test, y_pred_rnn, output_dict=True)\n",
    "# Convert to DataFrame for easier visualization\n",
    "report_df = pd.DataFrame(report).transpose()\n",
    "# Plot as a bar chart\n",
    "report_df[['precision','recall','f1-score']].drop(['accuracy','macro avg','weighted avg']).plot(kind='bar')\n",
    "plt.title('RNN Classification Report')\n",
    "plt.show()"
   ]
  },
  {
   "cell_type": "markdown",
   "metadata": {},
   "source": [
    "#### Classification Report Chart (Transformer)\n",
    "While the classification report is often shown in a tabular format"
   ]
  },
  {
   "cell_type": "code",
   "execution_count": 32,
   "metadata": {},
   "outputs": [
    {
     "data": {
      "image/png": "[encoded data removed]",
      "text/plain": [
       "<Figure size 432x288 with 1 Axes>"
      ]
     },
     "metadata": {
      "needs_background": "light"
     },
     "output_type": "display_data"
    }
   ],
   "source": [
    "# Generate classification report\n",
    "report = classification_report(y_test, y_pred_transformer, output_dict=True)\n",
    "# Convert to DataFrame for easier visualization\n",
    "report_df = pd.DataFrame(report).transpose()\n",
    "# Plot as a bar chart\n",
    "report_df[['precision','recall','f1-score']].drop(['accuracy','macro avg','weighted avg']).plot(kind='bar')\n",
    "plt.title('Transformer Classification Report')\n",
    "plt.show()"
   ]
  },
  {
   "cell_type": "markdown",
   "metadata": {},
   "source": [
    "#### The ROC curve and AUC Curves (CNN Model)\n",
    "are generally defined for binary classification problems. For multi-class classification problems, you can create ROC curves and calculate AUC in one of the following ways:\n",
    "\n",
    "One-vs-All (OvA) strategy: Compute the ROC curve and AUC for each class versus all other classes.\n",
    "One-vs-One (OvO) strategy: Compute the ROC curve and AUC for each pair of classes. This method is usually computationally expensive for a large number of classes.\n",
    "Micro- and Macro-averaging: Micro-averaging aggregates the contributions of all classes to compute the average metric, whereas Macro-averaging computes the metric independently for each class and then takes the average."
   ]
  },
  {
   "cell_type": "code",
   "execution_count": 33,
   "metadata": {},
   "outputs": [
    {
     "data": {
      "image/png": "[encoded data removed]",
      "text/plain": [
       "<Figure size 432x288 with 1 Axes>"
      ]
     },
     "metadata": {
      "needs_background": "light"
     },
     "output_type": "display_data"
    },
    {
     "data": {
      "image/png": "[encoded data removed]",
      "text/plain": [
       "<Figure size 432x288 with 1 Axes>"
      ]
     },
     "metadata": {
      "needs_background": "light"
     },
     "output_type": "display_data"
    },
    {
     "data": {
      "image/png": "[encoded data removed]",
      "text/plain": [
       "<Figure size 432x288 with 1 Axes>"
      ]
     },
     "metadata": {
      "needs_background": "light"
     },
     "output_type": "display_data"
    }
   ],
   "source": [
    "from sklearn.metrics import roc_curve, auc\n",
    "from sklearn.preprocessing import label_binarize\n",
    "import matplotlib.pyplot as plt\n",
    "import numpy as np\n",
    "\n",
    "# Binarize the labels for multi-class ROC curve\n",
    "y_test_bin = label_binarize(y_test, classes=[0, 1, 2])\n",
    "y_pred_bin = label_binarize(y_pred_cnn, classes=[0, 1, 2])\n",
    "n_classes = y_test_bin.shape[1]\n",
    "\n",
    "# Compute ROC curve and ROC area for each class\n",
    "fpr = dict()\n",
    "tpr = dict()\n",
    "roc_auc = dict()\n",
    "for i in range(n_classes):\n",
    "    fpr[i], tpr[i], _ = roc_curve(y_test_bin[:, i], y_pred_bin[:, i])\n",
    "    roc_auc[i] = auc(fpr[i], tpr[i])\n",
    "\n",
    "# Plot the ROC curve for each class\n",
    "for i in range(n_classes):\n",
    "    plt.figure()\n",
    "    plt.plot(fpr[i], tpr[i], label='ROC curve (area = %0.2f)' % roc_auc[i])\n",
    "    plt.plot([0, 1], [0, 1], 'k--')\n",
    "    plt.xlim([0.0, 1.0])\n",
    "    plt.ylim([0.0, 1.05])\n",
    "    plt.xlabel('False Positive Rate')\n",
    "    plt.ylabel('True Positive Rate')\n",
    "    plt.title('Receiver Operating Characteristic for class {}'.format(i))\n",
    "    plt.legend(loc=\"lower right\")\n",
    "    plt.show()\n"
   ]
  },
  {
   "cell_type": "markdown",
   "metadata": {},
   "source": [
    "Class 0 : 'neutral', Class 1 : 'positive', Class 2 : 'negative'"
   ]
  },
  {
   "cell_type": "markdown",
   "metadata": {},
   "source": [
    "### Precision Vs Recall Curve (CNN)"
   ]
  },
  {
   "cell_type": "code",
   "execution_count": 34,
   "metadata": {},
   "outputs": [
    {
     "data": {
      "image/png": "[encoded data removed]",
      "text/plain": [
       "<Figure size 432x288 with 1 Axes>"
      ]
     },
     "metadata": {
      "needs_background": "light"
     },
     "output_type": "display_data"
    }
   ],
   "source": [
    "from sklearn.metrics import precision_recall_curve\n",
    "from sklearn.preprocessing import label_binarize\n",
    "import matplotlib.pyplot as plt\n",
    "\n",
    "# Binarize the labels\n",
    "y_test_bin = label_binarize(y_test, classes=[0, 1, 2])\n",
    "y_pred_bin = label_binarize(y_pred_cnn, classes=[0, 1, 2])\n",
    "n_classes = y_test_bin.shape[1]\n",
    "\n",
    "# Compute Precision-Recall and plot curve for each class\n",
    "for i in range(n_classes):\n",
    "    precision, recall, _ = precision_recall_curve(y_test_bin[:, i], y_pred_bin[:, i])\n",
    "    plt.plot(recall, precision, lw=2, label='class {}'.format(i))\n",
    "\n",
    "plt.xlabel(\"recall\")\n",
    "plt.ylabel(\"precision\")\n",
    "plt.legend(loc=\"best\")\n",
    "plt.title(\"precision vs. recall curve (CNN)\")\n",
    "plt.show()\n"
   ]
  },
  {
   "cell_type": "markdown",
   "metadata": {},
   "source": [
    "Class 0 : 'neutral', Class 1 : 'positive', Class 2 : 'negative'"
   ]
  },
  {
   "cell_type": "markdown",
   "metadata": {},
   "source": [
    "#### The ROC curve and AUC Curves (RNN Model)\n",
    "are generally defined for binary classification problems. For multi-class classification problems, you can create ROC curves and calculate AUC in one of the following ways:\n",
    "\n",
    "One-vs-All (OvA) strategy: Compute the ROC curve and AUC for each class versus all other classes.\n",
    "One-vs-One (OvO) strategy: Compute the ROC curve and AUC for each pair of classes. This method is usually computationally expensive for a large number of classes.\n",
    "Micro- and Macro-averaging: Micro-averaging aggregates the contributions of all classes to compute the average metric, whereas Macro-averaging computes the metric independently for each class and then takes the average."
   ]
  },
  {
   "cell_type": "code",
   "execution_count": 35,
   "metadata": {},
   "outputs": [
    {
     "data": {
      "image/png": "[encoded data removed]",
      "text/plain": [
       "<Figure size 432x288 with 1 Axes>"
      ]
     },
     "metadata": {
      "needs_background": "light"
     },
     "output_type": "display_data"
    },
    {
     "data": {
      "image/png": "[encoded data removed]",
      "text/plain": [
       "<Figure size 432x288 with 1 Axes>"
      ]
     },
     "metadata": {
      "needs_background": "light"
     },
     "output_type": "display_data"
    },
    {
     "data": {
      "image/png": "[encoded data removed]",
      "text/plain": [
       "<Figure size 432x288 with 1 Axes>"
      ]
     },
     "metadata": {
      "needs_background": "light"
     },
     "output_type": "display_data"
    }
   ],
   "source": [
    "from sklearn.metrics import roc_curve, auc\n",
    "from sklearn.preprocessing import label_binarize\n",
    "import matplotlib.pyplot as plt\n",
    "import numpy as np\n",
    "\n",
    "# Binarize the labels for multi-class ROC curve\n",
    "y_test_bin = label_binarize(y_test, classes=[0, 1, 2])\n",
    "y_pred_bin = label_binarize(y_pred_rnn, classes=[0, 1, 2])\n",
    "n_classes = y_test_bin.shape[1]\n",
    "\n",
    "# Compute ROC curve and ROC area for each class\n",
    "fpr = dict()\n",
    "tpr = dict()\n",
    "roc_auc = dict()\n",
    "for i in range(n_classes):\n",
    "    fpr[i], tpr[i], _ = roc_curve(y_test_bin[:, i], y_pred_bin[:, i])\n",
    "    roc_auc[i] = auc(fpr[i], tpr[i])\n",
    "\n",
    "# Plot the ROC curve for each class\n",
    "for i in range(n_classes):\n",
    "    plt.figure()\n",
    "    plt.plot(fpr[i], tpr[i], label='ROC curve (area = %0.2f)' % roc_auc[i])\n",
    "    plt.plot([0, 1], [0, 1], 'k--')\n",
    "    plt.xlim([0.0, 1.0])\n",
    "    plt.ylim([0.0, 1.05])\n",
    "    plt.xlabel('False Positive Rate')\n",
    "    plt.ylabel('True Positive Rate')\n",
    "    plt.title('Receiver Operating Characteristic for class {}'.format(i))\n",
    "    plt.legend(loc=\"lower right\")\n",
    "    plt.show()\n"
   ]
  },
  {
   "cell_type": "markdown",
   "metadata": {},
   "source": [
    "Class 0 : 'neutral', Class 1 : 'positive', Class 2 : 'negative'"
   ]
  },
  {
   "cell_type": "markdown",
   "metadata": {},
   "source": [
    "### Precision Vs Recall Curve (RNN)"
   ]
  },
  {
   "cell_type": "code",
   "execution_count": 36,
   "metadata": {},
   "outputs": [
    {
     "data": {
      "image/png": "[encoded data removed]",
      "text/plain": [
       "<Figure size 432x288 with 1 Axes>"
      ]
     },
     "metadata": {
      "needs_background": "light"
     },
     "output_type": "display_data"
    }
   ],
   "source": [
    "from sklearn.metrics import precision_recall_curve\n",
    "from sklearn.preprocessing import label_binarize\n",
    "import matplotlib.pyplot as plt\n",
    "\n",
    "# Binarize the labels\n",
    "y_test_bin = label_binarize(y_test, classes=[0, 1, 2])\n",
    "y_pred_bin = label_binarize(y_pred_rnn, classes=[0, 1, 2])\n",
    "n_classes = y_test_bin.shape[1]\n",
    "\n",
    "# Compute Precision-Recall and plot curve for each class\n",
    "for i in range(n_classes):\n",
    "    precision, recall, _ = precision_recall_curve(y_test_bin[:, i], y_pred_bin[:, i])\n",
    "    plt.plot(recall, precision, lw=2, label='class {}'.format(i))\n",
    "\n",
    "plt.xlabel(\"recall\")\n",
    "plt.ylabel(\"precision\")\n",
    "plt.legend(loc=\"best\")\n",
    "plt.title(\"precision vs. recall curve (RNN)\")\n",
    "plt.show()\n"
   ]
  },
  {
   "cell_type": "markdown",
   "metadata": {},
   "source": [
    "Class 0 : 'neutral', Class 1 : 'positive', Class 2 : 'negative'"
   ]
  },
  {
   "cell_type": "markdown",
   "metadata": {},
   "source": [
    "#### The ROC curve and AUC Curves (Transformer Model)\n",
    "are generally defined for binary classification problems. For multi-class classification problems, you can create ROC curves and calculate AUC in one of the following ways:\n",
    "\n",
    "One-vs-All (OvA) strategy: Compute the ROC curve and AUC for each class versus all other classes.\n",
    "One-vs-One (OvO) strategy: Compute the ROC curve and AUC for each pair of classes. This method is usually computationally expensive for a large number of classes.\n",
    "Micro- and Macro-averaging: Micro-averaging aggregates the contributions of all classes to compute the average metric, whereas Macro-averaging computes the metric independently for each class and then takes the average."
   ]
  },
  {
   "cell_type": "code",
   "execution_count": 37,
   "metadata": {},
   "outputs": [
    {
     "data": {
      "image/png": "[encoded data removed]",
      "text/plain": [
       "<Figure size 432x288 with 1 Axes>"
      ]
     },
     "metadata": {
      "needs_background": "light"
     },
     "output_type": "display_data"
    },
    {
     "data": {
      "image/png": "[encoded data removed]",
      "text/plain": [
       "<Figure size 432x288 with 1 Axes>"
      ]
     },
     "metadata": {
      "needs_background": "light"
     },
     "output_type": "display_data"
    },
    {
     "data": {
      "image/png": "[encoded data removed]",
      "text/plain": [
       "<Figure size 432x288 with 1 Axes>"
      ]
     },
     "metadata": {
      "needs_background": "light"
     },
     "output_type": "display_data"
    }
   ],
   "source": [
    "from sklearn.metrics import roc_curve, auc\n",
    "from sklearn.preprocessing import label_binarize\n",
    "import matplotlib.pyplot as plt\n",
    "import numpy as np\n",
    "\n",
    "# Binarize the labels for multi-class ROC curve\n",
    "y_test_bin = label_binarize(y_test, classes=[0, 1, 2])\n",
    "y_pred_bin = label_binarize(y_pred_transformer, classes=[0, 1, 2])\n",
    "n_classes = y_test_bin.shape[1]\n",
    "\n",
    "# Compute ROC curve and ROC area for each class\n",
    "fpr = dict()\n",
    "tpr = dict()\n",
    "roc_auc = dict()\n",
    "for i in range(n_classes):\n",
    "    fpr[i], tpr[i], _ = roc_curve(y_test_bin[:, i], y_pred_bin[:, i])\n",
    "    roc_auc[i] = auc(fpr[i], tpr[i])\n",
    "\n",
    "# Plot the ROC curve for each class\n",
    "for i in range(n_classes):\n",
    "    plt.figure()\n",
    "    plt.plot(fpr[i], tpr[i], label='ROC curve (area = %0.2f)' % roc_auc[i])\n",
    "    plt.plot([0, 1], [0, 1], 'k--')\n",
    "    plt.xlim([0.0, 1.0])\n",
    "    plt.ylim([0.0, 1.05])\n",
    "    plt.xlabel('False Positive Rate')\n",
    "    plt.ylabel('True Positive Rate')\n",
    "    plt.title('Receiver Operating Characteristic for class {}'.format(i))\n",
    "    plt.legend(loc=\"lower right\")\n",
    "    plt.show()\n"
   ]
  },
  {
   "cell_type": "markdown",
   "metadata": {},
   "source": [
    "Class 0 : 'neutral', Class 1 : 'positive', Class 2 : 'negative'"
   ]
  },
  {
   "cell_type": "markdown",
   "metadata": {},
   "source": [
    "### Precision Vs Recall Curve (Transformer)"
   ]
  },
  {
   "cell_type": "code",
   "execution_count": 38,
   "metadata": {},
   "outputs": [
    {
     "data": {
      "image/png": "[encoded data removed]",
      "text/plain": [
       "<Figure size 432x288 with 1 Axes>"
      ]
     },
     "metadata": {
      "needs_background": "light"
     },
     "output_type": "display_data"
    }
   ],
   "source": [
    "from sklearn.metrics import precision_recall_curve\n",
    "from sklearn.preprocessing import label_binarize\n",
    "import matplotlib.pyplot as plt\n",
    "\n",
    "# Binarize the labels\n",
    "y_test_bin = label_binarize(y_test, classes=[0, 1, 2])\n",
    "y_pred_bin = label_binarize(y_pred_transformer, classes=[0, 1, 2])\n",
    "n_classes = y_test_bin.shape[1]\n",
    "\n",
    "# Compute Precision-Recall and plot curve for each class\n",
    "for i in range(n_classes):\n",
    "    precision, recall, _ = precision_recall_curve(y_test_bin[:, i], y_pred_bin[:, i])\n",
    "    plt.plot(recall, precision, lw=2, label='class {}'.format(i))\n",
    "\n",
    "plt.xlabel(\"recall\")\n",
    "plt.ylabel(\"precision\")\n",
    "plt.legend(loc=\"best\")\n",
    "plt.title(\"precision vs. recall curve (Transformer)\")\n",
    "plt.show()"
   ]
  },
  {
   "cell_type": "markdown",
   "metadata": {},
   "source": [
    "Word Embedding Visualization\n",
    "If you're using an embedding layer in your neural networks, you can visualize the word vectors to see how words are grouped together in the embedding space."
   ]
  },
  {
   "cell_type": "code",
   "execution_count": 39,
   "metadata": {},
   "outputs": [
    {
     "data": {
      "image/png": "[encoded data removed]",
      "text/plain": [
       "<Figure size 720x504 with 1 Axes>"
      ]
     },
     "metadata": {
      "needs_background": "light"
     },
     "output_type": "display_data"
    }
   ],
   "source": [
    "# Create a DataFrame with the true and predicted labels\n",
    "df_predictions = pd.DataFrame({'True': y_test, 'Predicted': y_pred_cnn})\n",
    "\n",
    "# Count the occurrences of each class\n",
    "count_true = df_predictions['True'].value_counts().sort_index()\n",
    "count_pred = df_predictions['Predicted'].value_counts().sort_index()\n",
    "\n",
    "# Create a bar chart\n",
    "plt.figure(figsize=(10, 7))\n",
    "plt.bar(count_true.index - 0.2, count_true.values, 0.4, label='True')\n",
    "plt.bar(count_pred.index + 0.2, count_pred.values, 0.4, label='Predicted')\n",
    "plt.xlabel('Class')\n",
    "plt.ylabel('Count')\n",
    "plt.legend()\n",
    "plt.title(\"CNN : True v Predicted Value  \\n Class 0 : 'neutral', Class 1 : 'positive', Class 2 : 'negative'\")\n",
    "plt.show()\n"
   ]
  },
  {
   "cell_type": "code",
   "execution_count": 40,
   "metadata": {},
   "outputs": [
    {
     "data": {
      "image/png": "[encoded data removed]",
      "text/plain": [
       "<Figure size 720x504 with 1 Axes>"
      ]
     },
     "metadata": {
      "needs_background": "light"
     },
     "output_type": "display_data"
    }
   ],
   "source": [
    "# Create a DataFrame with the true and predicted labels\n",
    "df_predictions = pd.DataFrame({'True': y_test, 'Predicted': y_pred_rnn})\n",
    "\n",
    "# Count the occurrences of each class\n",
    "count_true = df_predictions['True'].value_counts().sort_index()\n",
    "count_pred = df_predictions['Predicted'].value_counts().sort_index()\n",
    "\n",
    "# Create a bar chart\n",
    "plt.figure(figsize=(10, 7))\n",
    "plt.bar(count_true.index - 0.2, count_true.values, 0.4, label='True')\n",
    "plt.bar(count_pred.index + 0.2, count_pred.values, 0.4, label='Predicted')\n",
    "plt.xlabel('Class')\n",
    "plt.ylabel('Count')\n",
    "plt.legend()\n",
    "plt.title(\"RNN : True v Predicted Value  \\n Class 0 : 'neutral', Class 1 : 'positive', Class 2 : 'negative'\")\n",
    "plt.show()\n"
   ]
  },
  {
   "cell_type": "code",
   "execution_count": 41,
   "metadata": {},
   "outputs": [
    {
     "data": {
      "image/png": "[encoded data removed]",
      "text/plain": [
       "<Figure size 720x504 with 1 Axes>"
      ]
     },
     "metadata": {
      "needs_background": "light"
     },
     "output_type": "display_data"
    }
   ],
   "source": [
    "# Create a DataFrame with the true and predicted labels\n",
    "df_predictions = pd.DataFrame({'True': y_test, 'Predicted': y_pred_transformer})\n",
    "\n",
    "# Count the occurrences of each class\n",
    "count_true = df_predictions['True'].value_counts().sort_index()\n",
    "count_pred = df_predictions['Predicted'].value_counts().sort_index()\n",
    "\n",
    "# Create a bar chart\n",
    "plt.figure(figsize=(10, 7))\n",
    "plt.bar(count_true.index - 0.2, count_true.values, 0.4, label='True')\n",
    "plt.bar(count_pred.index + 0.2, count_pred.values, 0.4, label='Predicted')\n",
    "plt.xlabel('Class')\n",
    "plt.ylabel('Count')\n",
    "plt.legend()\n",
    "plt.title(\"Transformer : True v Predicted Value  \\n Class 0 : 'neutral', Class 1 : 'positive', Class 2 : 'negative'\")\n",
    "plt.show()\n"
   ]
  },
  {
   "cell_type": "markdown",
   "metadata": {},
   "source": [
    "### True VS Predicted  - Top 50 Values (CNN Model)"
   ]
  },
  {
   "cell_type": "code",
   "execution_count": 42,
   "metadata": {},
   "outputs": [
    {
     "data": {
      "text/html": [
       "<div>\n",
       "<style scoped>\n",
       "    .dataframe tbody tr th:only-of-type {\n",
       "        vertical-align: middle;\n",
       "    }\n",
       "\n",
       "    .dataframe tbody tr th {\n",
       "        vertical-align: top;\n",
       "    }\n",
       "\n",
       "    .dataframe thead th {\n",
       "        text-align: right;\n",
       "    }\n",
       "</style>\n",
       "<table border=\"1\" class=\"dataframe\">\n",
       "  <thead>\n",
       "    <tr style=\"text-align: right;\">\n",
       "      <th></th>\n",
       "      <th>True_Label</th>\n",
       "      <th>Predicted_Label</th>\n",
       "    </tr>\n",
       "  </thead>\n",
       "  <tbody>\n",
       "    <tr>\n",
       "      <th>0</th>\n",
       "      <td>0</td>\n",
       "      <td>0</td>\n",
       "    </tr>\n",
       "    <tr>\n",
       "      <th>1</th>\n",
       "      <td>1</td>\n",
       "      <td>1</td>\n",
       "    </tr>\n",
       "    <tr>\n",
       "      <th>2</th>\n",
       "      <td>2</td>\n",
       "      <td>1</td>\n",
       "    </tr>\n",
       "    <tr>\n",
       "      <th>3</th>\n",
       "      <td>1</td>\n",
       "      <td>1</td>\n",
       "    </tr>\n",
       "    <tr>\n",
       "      <th>4</th>\n",
       "      <td>2</td>\n",
       "      <td>2</td>\n",
       "    </tr>\n",
       "    <tr>\n",
       "      <th>5</th>\n",
       "      <td>1</td>\n",
       "      <td>2</td>\n",
       "    </tr>\n",
       "    <tr>\n",
       "      <th>6</th>\n",
       "      <td>1</td>\n",
       "      <td>1</td>\n",
       "    </tr>\n",
       "    <tr>\n",
       "      <th>7</th>\n",
       "      <td>2</td>\n",
       "      <td>2</td>\n",
       "    </tr>\n",
       "    <tr>\n",
       "      <th>8</th>\n",
       "      <td>0</td>\n",
       "      <td>0</td>\n",
       "    </tr>\n",
       "    <tr>\n",
       "      <th>9</th>\n",
       "      <td>0</td>\n",
       "      <td>2</td>\n",
       "    </tr>\n",
       "    <tr>\n",
       "      <th>10</th>\n",
       "      <td>0</td>\n",
       "      <td>1</td>\n",
       "    </tr>\n",
       "    <tr>\n",
       "      <th>11</th>\n",
       "      <td>0</td>\n",
       "      <td>0</td>\n",
       "    </tr>\n",
       "    <tr>\n",
       "      <th>12</th>\n",
       "      <td>0</td>\n",
       "      <td>1</td>\n",
       "    </tr>\n",
       "    <tr>\n",
       "      <th>13</th>\n",
       "      <td>2</td>\n",
       "      <td>2</td>\n",
       "    </tr>\n",
       "    <tr>\n",
       "      <th>14</th>\n",
       "      <td>2</td>\n",
       "      <td>2</td>\n",
       "    </tr>\n",
       "    <tr>\n",
       "      <th>15</th>\n",
       "      <td>1</td>\n",
       "      <td>1</td>\n",
       "    </tr>\n",
       "    <tr>\n",
       "      <th>16</th>\n",
       "      <td>0</td>\n",
       "      <td>0</td>\n",
       "    </tr>\n",
       "    <tr>\n",
       "      <th>17</th>\n",
       "      <td>1</td>\n",
       "      <td>1</td>\n",
       "    </tr>\n",
       "    <tr>\n",
       "      <th>18</th>\n",
       "      <td>2</td>\n",
       "      <td>2</td>\n",
       "    </tr>\n",
       "    <tr>\n",
       "      <th>19</th>\n",
       "      <td>2</td>\n",
       "      <td>2</td>\n",
       "    </tr>\n",
       "    <tr>\n",
       "      <th>20</th>\n",
       "      <td>2</td>\n",
       "      <td>2</td>\n",
       "    </tr>\n",
       "    <tr>\n",
       "      <th>21</th>\n",
       "      <td>2</td>\n",
       "      <td>2</td>\n",
       "    </tr>\n",
       "    <tr>\n",
       "      <th>22</th>\n",
       "      <td>1</td>\n",
       "      <td>1</td>\n",
       "    </tr>\n",
       "    <tr>\n",
       "      <th>23</th>\n",
       "      <td>2</td>\n",
       "      <td>2</td>\n",
       "    </tr>\n",
       "    <tr>\n",
       "      <th>24</th>\n",
       "      <td>2</td>\n",
       "      <td>2</td>\n",
       "    </tr>\n",
       "    <tr>\n",
       "      <th>25</th>\n",
       "      <td>0</td>\n",
       "      <td>0</td>\n",
       "    </tr>\n",
       "    <tr>\n",
       "      <th>26</th>\n",
       "      <td>2</td>\n",
       "      <td>2</td>\n",
       "    </tr>\n",
       "    <tr>\n",
       "      <th>27</th>\n",
       "      <td>1</td>\n",
       "      <td>1</td>\n",
       "    </tr>\n",
       "    <tr>\n",
       "      <th>28</th>\n",
       "      <td>0</td>\n",
       "      <td>0</td>\n",
       "    </tr>\n",
       "    <tr>\n",
       "      <th>29</th>\n",
       "      <td>2</td>\n",
       "      <td>2</td>\n",
       "    </tr>\n",
       "    <tr>\n",
       "      <th>30</th>\n",
       "      <td>2</td>\n",
       "      <td>2</td>\n",
       "    </tr>\n",
       "    <tr>\n",
       "      <th>31</th>\n",
       "      <td>1</td>\n",
       "      <td>1</td>\n",
       "    </tr>\n",
       "    <tr>\n",
       "      <th>32</th>\n",
       "      <td>0</td>\n",
       "      <td>0</td>\n",
       "    </tr>\n",
       "    <tr>\n",
       "      <th>33</th>\n",
       "      <td>1</td>\n",
       "      <td>1</td>\n",
       "    </tr>\n",
       "    <tr>\n",
       "      <th>34</th>\n",
       "      <td>0</td>\n",
       "      <td>0</td>\n",
       "    </tr>\n",
       "    <tr>\n",
       "      <th>35</th>\n",
       "      <td>1</td>\n",
       "      <td>1</td>\n",
       "    </tr>\n",
       "    <tr>\n",
       "      <th>36</th>\n",
       "      <td>1</td>\n",
       "      <td>2</td>\n",
       "    </tr>\n",
       "    <tr>\n",
       "      <th>37</th>\n",
       "      <td>2</td>\n",
       "      <td>2</td>\n",
       "    </tr>\n",
       "    <tr>\n",
       "      <th>38</th>\n",
       "      <td>0</td>\n",
       "      <td>0</td>\n",
       "    </tr>\n",
       "    <tr>\n",
       "      <th>39</th>\n",
       "      <td>1</td>\n",
       "      <td>1</td>\n",
       "    </tr>\n",
       "    <tr>\n",
       "      <th>40</th>\n",
       "      <td>1</td>\n",
       "      <td>1</td>\n",
       "    </tr>\n",
       "    <tr>\n",
       "      <th>41</th>\n",
       "      <td>1</td>\n",
       "      <td>2</td>\n",
       "    </tr>\n",
       "    <tr>\n",
       "      <th>42</th>\n",
       "      <td>2</td>\n",
       "      <td>2</td>\n",
       "    </tr>\n",
       "    <tr>\n",
       "      <th>43</th>\n",
       "      <td>2</td>\n",
       "      <td>2</td>\n",
       "    </tr>\n",
       "    <tr>\n",
       "      <th>44</th>\n",
       "      <td>2</td>\n",
       "      <td>2</td>\n",
       "    </tr>\n",
       "    <tr>\n",
       "      <th>45</th>\n",
       "      <td>0</td>\n",
       "      <td>2</td>\n",
       "    </tr>\n",
       "    <tr>\n",
       "      <th>46</th>\n",
       "      <td>0</td>\n",
       "      <td>0</td>\n",
       "    </tr>\n",
       "    <tr>\n",
       "      <th>47</th>\n",
       "      <td>1</td>\n",
       "      <td>1</td>\n",
       "    </tr>\n",
       "    <tr>\n",
       "      <th>48</th>\n",
       "      <td>0</td>\n",
       "      <td>0</td>\n",
       "    </tr>\n",
       "    <tr>\n",
       "      <th>49</th>\n",
       "      <td>0</td>\n",
       "      <td>0</td>\n",
       "    </tr>\n",
       "  </tbody>\n",
       "</table>\n",
       "</div>"
      ],
      "text/plain": [
       "    True_Label  Predicted_Label\n",
       "0            0                0\n",
       "1            1                1\n",
       "2            2                1\n",
       "3            1                1\n",
       "4            2                2\n",
       "5            1                2\n",
       "6            1                1\n",
       "7            2                2\n",
       "8            0                0\n",
       "9            0                2\n",
       "10           0                1\n",
       "11           0                0\n",
       "12           0                1\n",
       "13           2                2\n",
       "14           2                2\n",
       "15           1                1\n",
       "16           0                0\n",
       "17           1                1\n",
       "18           2                2\n",
       "19           2                2\n",
       "20           2                2\n",
       "21           2                2\n",
       "22           1                1\n",
       "23           2                2\n",
       "24           2                2\n",
       "25           0                0\n",
       "26           2                2\n",
       "27           1                1\n",
       "28           0                0\n",
       "29           2                2\n",
       "30           2                2\n",
       "31           1                1\n",
       "32           0                0\n",
       "33           1                1\n",
       "34           0                0\n",
       "35           1                1\n",
       "36           1                2\n",
       "37           2                2\n",
       "38           0                0\n",
       "39           1                1\n",
       "40           1                1\n",
       "41           1                2\n",
       "42           2                2\n",
       "43           2                2\n",
       "44           2                2\n",
       "45           0                2\n",
       "46           0                0\n",
       "47           1                1\n",
       "48           0                0\n",
       "49           0                0"
      ]
     },
     "execution_count": 42,
     "metadata": {},
     "output_type": "execute_result"
    }
   ],
   "source": [
    "# Convert to DataFrame for better visualization\n",
    "df_comparison = pd.DataFrame({\n",
    "    'True_Label': y_test,\n",
    "    'Predicted_Label': y_pred_cnn\n",
    "})\n",
    "\n",
    "# Show the top 5 samples\n",
    "df_comparison.head(50)"
   ]
  },
  {
   "cell_type": "markdown",
   "metadata": {},
   "source": [
    "### True VS Predicted  - Top 50 Values (RNN Model)"
   ]
  },
  {
   "cell_type": "code",
   "execution_count": 43,
   "metadata": {},
   "outputs": [
    {
     "data": {
      "text/html": [
       "<div>\n",
       "<style scoped>\n",
       "    .dataframe tbody tr th:only-of-type {\n",
       "        vertical-align: middle;\n",
       "    }\n",
       "\n",
       "    .dataframe tbody tr th {\n",
       "        vertical-align: top;\n",
       "    }\n",
       "\n",
       "    .dataframe thead th {\n",
       "        text-align: right;\n",
       "    }\n",
       "</style>\n",
       "<table border=\"1\" class=\"dataframe\">\n",
       "  <thead>\n",
       "    <tr style=\"text-align: right;\">\n",
       "      <th></th>\n",
       "      <th>True_Label</th>\n",
       "      <th>Predicted_Label</th>\n",
       "    </tr>\n",
       "  </thead>\n",
       "  <tbody>\n",
       "    <tr>\n",
       "      <th>0</th>\n",
       "      <td>0</td>\n",
       "      <td>1</td>\n",
       "    </tr>\n",
       "    <tr>\n",
       "      <th>1</th>\n",
       "      <td>1</td>\n",
       "      <td>1</td>\n",
       "    </tr>\n",
       "    <tr>\n",
       "      <th>2</th>\n",
       "      <td>2</td>\n",
       "      <td>1</td>\n",
       "    </tr>\n",
       "    <tr>\n",
       "      <th>3</th>\n",
       "      <td>1</td>\n",
       "      <td>1</td>\n",
       "    </tr>\n",
       "    <tr>\n",
       "      <th>4</th>\n",
       "      <td>2</td>\n",
       "      <td>1</td>\n",
       "    </tr>\n",
       "    <tr>\n",
       "      <th>5</th>\n",
       "      <td>1</td>\n",
       "      <td>1</td>\n",
       "    </tr>\n",
       "    <tr>\n",
       "      <th>6</th>\n",
       "      <td>1</td>\n",
       "      <td>1</td>\n",
       "    </tr>\n",
       "    <tr>\n",
       "      <th>7</th>\n",
       "      <td>2</td>\n",
       "      <td>1</td>\n",
       "    </tr>\n",
       "    <tr>\n",
       "      <th>8</th>\n",
       "      <td>0</td>\n",
       "      <td>1</td>\n",
       "    </tr>\n",
       "    <tr>\n",
       "      <th>9</th>\n",
       "      <td>0</td>\n",
       "      <td>1</td>\n",
       "    </tr>\n",
       "    <tr>\n",
       "      <th>10</th>\n",
       "      <td>0</td>\n",
       "      <td>1</td>\n",
       "    </tr>\n",
       "    <tr>\n",
       "      <th>11</th>\n",
       "      <td>0</td>\n",
       "      <td>1</td>\n",
       "    </tr>\n",
       "    <tr>\n",
       "      <th>12</th>\n",
       "      <td>0</td>\n",
       "      <td>1</td>\n",
       "    </tr>\n",
       "    <tr>\n",
       "      <th>13</th>\n",
       "      <td>2</td>\n",
       "      <td>1</td>\n",
       "    </tr>\n",
       "    <tr>\n",
       "      <th>14</th>\n",
       "      <td>2</td>\n",
       "      <td>1</td>\n",
       "    </tr>\n",
       "    <tr>\n",
       "      <th>15</th>\n",
       "      <td>1</td>\n",
       "      <td>1</td>\n",
       "    </tr>\n",
       "    <tr>\n",
       "      <th>16</th>\n",
       "      <td>0</td>\n",
       "      <td>1</td>\n",
       "    </tr>\n",
       "    <tr>\n",
       "      <th>17</th>\n",
       "      <td>1</td>\n",
       "      <td>1</td>\n",
       "    </tr>\n",
       "    <tr>\n",
       "      <th>18</th>\n",
       "      <td>2</td>\n",
       "      <td>1</td>\n",
       "    </tr>\n",
       "    <tr>\n",
       "      <th>19</th>\n",
       "      <td>2</td>\n",
       "      <td>1</td>\n",
       "    </tr>\n",
       "    <tr>\n",
       "      <th>20</th>\n",
       "      <td>2</td>\n",
       "      <td>1</td>\n",
       "    </tr>\n",
       "    <tr>\n",
       "      <th>21</th>\n",
       "      <td>2</td>\n",
       "      <td>1</td>\n",
       "    </tr>\n",
       "    <tr>\n",
       "      <th>22</th>\n",
       "      <td>1</td>\n",
       "      <td>1</td>\n",
       "    </tr>\n",
       "    <tr>\n",
       "      <th>23</th>\n",
       "      <td>2</td>\n",
       "      <td>1</td>\n",
       "    </tr>\n",
       "    <tr>\n",
       "      <th>24</th>\n",
       "      <td>2</td>\n",
       "      <td>1</td>\n",
       "    </tr>\n",
       "    <tr>\n",
       "      <th>25</th>\n",
       "      <td>0</td>\n",
       "      <td>1</td>\n",
       "    </tr>\n",
       "    <tr>\n",
       "      <th>26</th>\n",
       "      <td>2</td>\n",
       "      <td>1</td>\n",
       "    </tr>\n",
       "    <tr>\n",
       "      <th>27</th>\n",
       "      <td>1</td>\n",
       "      <td>1</td>\n",
       "    </tr>\n",
       "    <tr>\n",
       "      <th>28</th>\n",
       "      <td>0</td>\n",
       "      <td>1</td>\n",
       "    </tr>\n",
       "    <tr>\n",
       "      <th>29</th>\n",
       "      <td>2</td>\n",
       "      <td>1</td>\n",
       "    </tr>\n",
       "    <tr>\n",
       "      <th>30</th>\n",
       "      <td>2</td>\n",
       "      <td>1</td>\n",
       "    </tr>\n",
       "    <tr>\n",
       "      <th>31</th>\n",
       "      <td>1</td>\n",
       "      <td>1</td>\n",
       "    </tr>\n",
       "    <tr>\n",
       "      <th>32</th>\n",
       "      <td>0</td>\n",
       "      <td>1</td>\n",
       "    </tr>\n",
       "    <tr>\n",
       "      <th>33</th>\n",
       "      <td>1</td>\n",
       "      <td>1</td>\n",
       "    </tr>\n",
       "    <tr>\n",
       "      <th>34</th>\n",
       "      <td>0</td>\n",
       "      <td>1</td>\n",
       "    </tr>\n",
       "    <tr>\n",
       "      <th>35</th>\n",
       "      <td>1</td>\n",
       "      <td>1</td>\n",
       "    </tr>\n",
       "    <tr>\n",
       "      <th>36</th>\n",
       "      <td>1</td>\n",
       "      <td>1</td>\n",
       "    </tr>\n",
       "    <tr>\n",
       "      <th>37</th>\n",
       "      <td>2</td>\n",
       "      <td>1</td>\n",
       "    </tr>\n",
       "    <tr>\n",
       "      <th>38</th>\n",
       "      <td>0</td>\n",
       "      <td>1</td>\n",
       "    </tr>\n",
       "    <tr>\n",
       "      <th>39</th>\n",
       "      <td>1</td>\n",
       "      <td>1</td>\n",
       "    </tr>\n",
       "    <tr>\n",
       "      <th>40</th>\n",
       "      <td>1</td>\n",
       "      <td>1</td>\n",
       "    </tr>\n",
       "    <tr>\n",
       "      <th>41</th>\n",
       "      <td>1</td>\n",
       "      <td>1</td>\n",
       "    </tr>\n",
       "    <tr>\n",
       "      <th>42</th>\n",
       "      <td>2</td>\n",
       "      <td>1</td>\n",
       "    </tr>\n",
       "    <tr>\n",
       "      <th>43</th>\n",
       "      <td>2</td>\n",
       "      <td>1</td>\n",
       "    </tr>\n",
       "    <tr>\n",
       "      <th>44</th>\n",
       "      <td>2</td>\n",
       "      <td>1</td>\n",
       "    </tr>\n",
       "    <tr>\n",
       "      <th>45</th>\n",
       "      <td>0</td>\n",
       "      <td>1</td>\n",
       "    </tr>\n",
       "    <tr>\n",
       "      <th>46</th>\n",
       "      <td>0</td>\n",
       "      <td>1</td>\n",
       "    </tr>\n",
       "    <tr>\n",
       "      <th>47</th>\n",
       "      <td>1</td>\n",
       "      <td>1</td>\n",
       "    </tr>\n",
       "    <tr>\n",
       "      <th>48</th>\n",
       "      <td>0</td>\n",
       "      <td>1</td>\n",
       "    </tr>\n",
       "    <tr>\n",
       "      <th>49</th>\n",
       "      <td>0</td>\n",
       "      <td>1</td>\n",
       "    </tr>\n",
       "  </tbody>\n",
       "</table>\n",
       "</div>"
      ],
      "text/plain": [
       "    True_Label  Predicted_Label\n",
       "0            0                1\n",
       "1            1                1\n",
       "2            2                1\n",
       "3            1                1\n",
       "4            2                1\n",
       "5            1                1\n",
       "6            1                1\n",
       "7            2                1\n",
       "8            0                1\n",
       "9            0                1\n",
       "10           0                1\n",
       "11           0                1\n",
       "12           0                1\n",
       "13           2                1\n",
       "14           2                1\n",
       "15           1                1\n",
       "16           0                1\n",
       "17           1                1\n",
       "18           2                1\n",
       "19           2                1\n",
       "20           2                1\n",
       "21           2                1\n",
       "22           1                1\n",
       "23           2                1\n",
       "24           2                1\n",
       "25           0                1\n",
       "26           2                1\n",
       "27           1                1\n",
       "28           0                1\n",
       "29           2                1\n",
       "30           2                1\n",
       "31           1                1\n",
       "32           0                1\n",
       "33           1                1\n",
       "34           0                1\n",
       "35           1                1\n",
       "36           1                1\n",
       "37           2                1\n",
       "38           0                1\n",
       "39           1                1\n",
       "40           1                1\n",
       "41           1                1\n",
       "42           2                1\n",
       "43           2                1\n",
       "44           2                1\n",
       "45           0                1\n",
       "46           0                1\n",
       "47           1                1\n",
       "48           0                1\n",
       "49           0                1"
      ]
     },
     "execution_count": 43,
     "metadata": {},
     "output_type": "execute_result"
    }
   ],
   "source": [
    "# Convert to DataFrame for better visualization\n",
    "df_comparison = pd.DataFrame({\n",
    "    'True_Label': y_test,\n",
    "    'Predicted_Label': y_pred_rnn\n",
    "})\n",
    "\n",
    "# Show the top 5 samples\n",
    "df_comparison.head(50)\n"
   ]
  },
  {
   "cell_type": "markdown",
   "metadata": {},
   "source": [
    "### True VS Predicted  - Top 50 Values (Transformer Model)"
   ]
  },
  {
   "cell_type": "code",
   "execution_count": 44,
   "metadata": {},
   "outputs": [
    {
     "data": {
      "text/html": [
       "<div>\n",
       "<style scoped>\n",
       "    .dataframe tbody tr th:only-of-type {\n",
       "        vertical-align: middle;\n",
       "    }\n",
       "\n",
       "    .dataframe tbody tr th {\n",
       "        vertical-align: top;\n",
       "    }\n",
       "\n",
       "    .dataframe thead th {\n",
       "        text-align: right;\n",
       "    }\n",
       "</style>\n",
       "<table border=\"1\" class=\"dataframe\">\n",
       "  <thead>\n",
       "    <tr style=\"text-align: right;\">\n",
       "      <th></th>\n",
       "      <th>True_Label</th>\n",
       "      <th>Predicted_Label</th>\n",
       "    </tr>\n",
       "  </thead>\n",
       "  <tbody>\n",
       "    <tr>\n",
       "      <th>0</th>\n",
       "      <td>0</td>\n",
       "      <td>0</td>\n",
       "    </tr>\n",
       "    <tr>\n",
       "      <th>1</th>\n",
       "      <td>1</td>\n",
       "      <td>1</td>\n",
       "    </tr>\n",
       "    <tr>\n",
       "      <th>2</th>\n",
       "      <td>2</td>\n",
       "      <td>1</td>\n",
       "    </tr>\n",
       "    <tr>\n",
       "      <th>3</th>\n",
       "      <td>1</td>\n",
       "      <td>1</td>\n",
       "    </tr>\n",
       "    <tr>\n",
       "      <th>4</th>\n",
       "      <td>2</td>\n",
       "      <td>2</td>\n",
       "    </tr>\n",
       "    <tr>\n",
       "      <th>5</th>\n",
       "      <td>1</td>\n",
       "      <td>2</td>\n",
       "    </tr>\n",
       "    <tr>\n",
       "      <th>6</th>\n",
       "      <td>1</td>\n",
       "      <td>1</td>\n",
       "    </tr>\n",
       "    <tr>\n",
       "      <th>7</th>\n",
       "      <td>2</td>\n",
       "      <td>2</td>\n",
       "    </tr>\n",
       "    <tr>\n",
       "      <th>8</th>\n",
       "      <td>0</td>\n",
       "      <td>0</td>\n",
       "    </tr>\n",
       "    <tr>\n",
       "      <th>9</th>\n",
       "      <td>0</td>\n",
       "      <td>2</td>\n",
       "    </tr>\n",
       "    <tr>\n",
       "      <th>10</th>\n",
       "      <td>0</td>\n",
       "      <td>1</td>\n",
       "    </tr>\n",
       "    <tr>\n",
       "      <th>11</th>\n",
       "      <td>0</td>\n",
       "      <td>0</td>\n",
       "    </tr>\n",
       "    <tr>\n",
       "      <th>12</th>\n",
       "      <td>0</td>\n",
       "      <td>1</td>\n",
       "    </tr>\n",
       "    <tr>\n",
       "      <th>13</th>\n",
       "      <td>2</td>\n",
       "      <td>2</td>\n",
       "    </tr>\n",
       "    <tr>\n",
       "      <th>14</th>\n",
       "      <td>2</td>\n",
       "      <td>2</td>\n",
       "    </tr>\n",
       "    <tr>\n",
       "      <th>15</th>\n",
       "      <td>1</td>\n",
       "      <td>1</td>\n",
       "    </tr>\n",
       "    <tr>\n",
       "      <th>16</th>\n",
       "      <td>0</td>\n",
       "      <td>0</td>\n",
       "    </tr>\n",
       "    <tr>\n",
       "      <th>17</th>\n",
       "      <td>1</td>\n",
       "      <td>1</td>\n",
       "    </tr>\n",
       "    <tr>\n",
       "      <th>18</th>\n",
       "      <td>2</td>\n",
       "      <td>2</td>\n",
       "    </tr>\n",
       "    <tr>\n",
       "      <th>19</th>\n",
       "      <td>2</td>\n",
       "      <td>2</td>\n",
       "    </tr>\n",
       "    <tr>\n",
       "      <th>20</th>\n",
       "      <td>2</td>\n",
       "      <td>2</td>\n",
       "    </tr>\n",
       "    <tr>\n",
       "      <th>21</th>\n",
       "      <td>2</td>\n",
       "      <td>0</td>\n",
       "    </tr>\n",
       "    <tr>\n",
       "      <th>22</th>\n",
       "      <td>1</td>\n",
       "      <td>1</td>\n",
       "    </tr>\n",
       "    <tr>\n",
       "      <th>23</th>\n",
       "      <td>2</td>\n",
       "      <td>2</td>\n",
       "    </tr>\n",
       "    <tr>\n",
       "      <th>24</th>\n",
       "      <td>2</td>\n",
       "      <td>2</td>\n",
       "    </tr>\n",
       "    <tr>\n",
       "      <th>25</th>\n",
       "      <td>0</td>\n",
       "      <td>0</td>\n",
       "    </tr>\n",
       "    <tr>\n",
       "      <th>26</th>\n",
       "      <td>2</td>\n",
       "      <td>2</td>\n",
       "    </tr>\n",
       "    <tr>\n",
       "      <th>27</th>\n",
       "      <td>1</td>\n",
       "      <td>1</td>\n",
       "    </tr>\n",
       "    <tr>\n",
       "      <th>28</th>\n",
       "      <td>0</td>\n",
       "      <td>0</td>\n",
       "    </tr>\n",
       "    <tr>\n",
       "      <th>29</th>\n",
       "      <td>2</td>\n",
       "      <td>2</td>\n",
       "    </tr>\n",
       "    <tr>\n",
       "      <th>30</th>\n",
       "      <td>2</td>\n",
       "      <td>2</td>\n",
       "    </tr>\n",
       "    <tr>\n",
       "      <th>31</th>\n",
       "      <td>1</td>\n",
       "      <td>1</td>\n",
       "    </tr>\n",
       "    <tr>\n",
       "      <th>32</th>\n",
       "      <td>0</td>\n",
       "      <td>0</td>\n",
       "    </tr>\n",
       "    <tr>\n",
       "      <th>33</th>\n",
       "      <td>1</td>\n",
       "      <td>1</td>\n",
       "    </tr>\n",
       "    <tr>\n",
       "      <th>34</th>\n",
       "      <td>0</td>\n",
       "      <td>0</td>\n",
       "    </tr>\n",
       "    <tr>\n",
       "      <th>35</th>\n",
       "      <td>1</td>\n",
       "      <td>1</td>\n",
       "    </tr>\n",
       "    <tr>\n",
       "      <th>36</th>\n",
       "      <td>1</td>\n",
       "      <td>1</td>\n",
       "    </tr>\n",
       "    <tr>\n",
       "      <th>37</th>\n",
       "      <td>2</td>\n",
       "      <td>2</td>\n",
       "    </tr>\n",
       "    <tr>\n",
       "      <th>38</th>\n",
       "      <td>0</td>\n",
       "      <td>0</td>\n",
       "    </tr>\n",
       "    <tr>\n",
       "      <th>39</th>\n",
       "      <td>1</td>\n",
       "      <td>1</td>\n",
       "    </tr>\n",
       "    <tr>\n",
       "      <th>40</th>\n",
       "      <td>1</td>\n",
       "      <td>1</td>\n",
       "    </tr>\n",
       "    <tr>\n",
       "      <th>41</th>\n",
       "      <td>1</td>\n",
       "      <td>1</td>\n",
       "    </tr>\n",
       "    <tr>\n",
       "      <th>42</th>\n",
       "      <td>2</td>\n",
       "      <td>2</td>\n",
       "    </tr>\n",
       "    <tr>\n",
       "      <th>43</th>\n",
       "      <td>2</td>\n",
       "      <td>2</td>\n",
       "    </tr>\n",
       "    <tr>\n",
       "      <th>44</th>\n",
       "      <td>2</td>\n",
       "      <td>2</td>\n",
       "    </tr>\n",
       "    <tr>\n",
       "      <th>45</th>\n",
       "      <td>0</td>\n",
       "      <td>1</td>\n",
       "    </tr>\n",
       "    <tr>\n",
       "      <th>46</th>\n",
       "      <td>0</td>\n",
       "      <td>1</td>\n",
       "    </tr>\n",
       "    <tr>\n",
       "      <th>47</th>\n",
       "      <td>1</td>\n",
       "      <td>1</td>\n",
       "    </tr>\n",
       "    <tr>\n",
       "      <th>48</th>\n",
       "      <td>0</td>\n",
       "      <td>0</td>\n",
       "    </tr>\n",
       "    <tr>\n",
       "      <th>49</th>\n",
       "      <td>0</td>\n",
       "      <td>0</td>\n",
       "    </tr>\n",
       "  </tbody>\n",
       "</table>\n",
       "</div>"
      ],
      "text/plain": [
       "    True_Label  Predicted_Label\n",
       "0            0                0\n",
       "1            1                1\n",
       "2            2                1\n",
       "3            1                1\n",
       "4            2                2\n",
       "5            1                2\n",
       "6            1                1\n",
       "7            2                2\n",
       "8            0                0\n",
       "9            0                2\n",
       "10           0                1\n",
       "11           0                0\n",
       "12           0                1\n",
       "13           2                2\n",
       "14           2                2\n",
       "15           1                1\n",
       "16           0                0\n",
       "17           1                1\n",
       "18           2                2\n",
       "19           2                2\n",
       "20           2                2\n",
       "21           2                0\n",
       "22           1                1\n",
       "23           2                2\n",
       "24           2                2\n",
       "25           0                0\n",
       "26           2                2\n",
       "27           1                1\n",
       "28           0                0\n",
       "29           2                2\n",
       "30           2                2\n",
       "31           1                1\n",
       "32           0                0\n",
       "33           1                1\n",
       "34           0                0\n",
       "35           1                1\n",
       "36           1                1\n",
       "37           2                2\n",
       "38           0                0\n",
       "39           1                1\n",
       "40           1                1\n",
       "41           1                1\n",
       "42           2                2\n",
       "43           2                2\n",
       "44           2                2\n",
       "45           0                1\n",
       "46           0                1\n",
       "47           1                1\n",
       "48           0                0\n",
       "49           0                0"
      ]
     },
     "execution_count": 44,
     "metadata": {},
     "output_type": "execute_result"
    }
   ],
   "source": [
    "# Convert to DataFrame for better visualization\n",
    "df_comparison = pd.DataFrame({\n",
    "    'True_Label': y_test,\n",
    "    'Predicted_Label': y_pred_transformer\n",
    "})\n",
    "\n",
    "# Show the top 5 samples\n",
    "df_comparison.head(50)\n"
   ]
  },
  {
   "cell_type": "markdown",
   "metadata": {},
   "source": [
    "### Analysis :\n",
    "#### Dataset Characteristics:\n",
    "Size: Approximately 4869 samples\n",
    "Classes: Positive, Negative, Neutral\n",
    "Average Sequence Length: 50 tokens\n",
    "\n",
    "<fieldset>\n",
    "<legend>Choice of Paper</legend>\n",
    "<ol>\n",
    "<li>Transformer Based Multi-Grained Attention Network for Aspect-Based Sentiment Analysis</li>\n",
    "<li>Transformer-based deep learning models for the sentiment analysis of social media data</li>\n",
    "<li>TSA-CNN-AOA: Twitter sentiment analysis using CNN optimized via arithmetic optimization algorithm</li>\n",
    "</ol>\n",
    "<p>\n",
    "We can see all the 3 papers are focussing on social media data and sentiment analysis. There are below multiple reasons to use the \"Twitter sentiment analysis using CNN optimized via arithmetic optimization algorithm\" as a paper of choice.\n",
    " <ol>\n",
    " <li>Very recent study</li>\n",
    " <li>It is doing sentiment analyis on social media views on covid-19, as a analsyst who worked a lot on covid-19 analysis for my current job profile, this topic is very relevant and  interest us more then other topics</li>\n",
    " <li>The purpose is to minimize the negative psychological impact of the disease on society by obtaining individuals’ views on COVID-19 from social media platform , which is kind of quite challenging and exciting domain</li>\n",
    " <li>Provides lot of technical details</li>\n",
    " </ol>\n",
    "</p>\n",
    "</fieldset>\n",
    "\n",
    "#### Model Performance:\n",
    "Convolutional Neural Networks (CNNs):\n",
    "Accuracy: 71.55%\n",
    "Training Time: 1 minutes\n",
    "Characteristics: Performed well in capturing local features such as specific sets of words or phrases that are indicative of sentiment. However, struggled with understanding the context when the sentence structure was complex.\n",
    "\n",
    "#### Recurrent Neural Networks (RNNs):\n",
    "Accuracy: 38.55%\n",
    "Training Time: 1 Min\n",
    "Characteristics: Could not captured the sequential nature of text data. Was'nt able to understand context better than CNN.\n",
    "\n",
    "##### Transformers:\n",
    "Accuracy: 73.55%\n",
    "Training Time: 1 minutes\n",
    "Characteristics: Provided the best performance in terms of accuracy. Was capable of understanding both local and global context due to its attention mechanisms. However, required a bit more time to train compared to CNN but less than RNN.\n",
    "\n",
    "#### Interpretation:\n",
    "CNNs are quick to train and may be suitable for applications where training time is a constraint. However, they might not always capture the sequential nature of text data effectively.\n",
    "\n",
    "RNNs are excellent for capturing the temporal dependencies in text data but can be slow to train, especially for long sequences. They might also suffer from issues like vanishing or exploding gradients.\n",
    "\n",
    "Transformers provide a good balance by capturing both local and global context effectively, and they are easier to parallelize compared to RNNs, which makes them scale better.\n",
    "\n",
    "#### Conclusion:\n",
    "For this specific dataset and the problem of sentiment analysis, Transformers seem to be the most suitable choice, providing a high accuracy rate and reasonable training time. However, the choice of model can depend on various factors including the availability of computational resources, the need for real-time analysis, and specific requirements of the application."
   ]
  }
 ],
 "metadata": {
  "kernelspec": {
   "display_name": "base",
   "language": "python",
   "name": "python3"
  },
  "language_info": {
   "codemirror_mode": {
    "name": "ipython",
    "version": 3
   },
   "file_extension": ".py",
   "mimetype": "text/x-python",
   "name": "python",
   "nbconvert_exporter": "python",
   "pygments_lexer": "ipython3",
   "version": "3.9.12"
  },
  "orig_nbformat": 4
 },
 "nbformat": 4,
 "nbformat_minor": 2
}
